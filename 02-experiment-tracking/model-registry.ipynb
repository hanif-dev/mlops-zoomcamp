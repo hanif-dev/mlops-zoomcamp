{
 "cells": [
  {
   "cell_type": "code",
   "execution_count": 5,
   "id": "97f492bf-70d2-4255-843a-e773e3c041de",
   "metadata": {},
   "outputs": [],
   "source": [
    "from mlflow.tracking import MlflowClient\n",
    "\n",
    "\n",
    "MLFLOW_TRACKING_URI = \"sqlite:///mlflow.db\""
   ]
  },
  {
   "cell_type": "code",
   "execution_count": 6,
   "id": "8b62c70f-54ee-4577-8682-9beb08b7f9e4",
   "metadata": {},
   "outputs": [
    {
     "data": {
      "text/plain": [
       "'\\nclient = MlflowClient()\\nversions=[1, 2, 3, 4]\\nfor version in versions:\\n    client.delete_model_version(name=\"nyc-taxi-regressor\", version=version)\\n    '"
      ]
     },
     "execution_count": 6,
     "metadata": {},
     "output_type": "execute_result"
    }
   ],
   "source": [
    "\"\"\"\n",
    "client = MlflowClient()\n",
    "versions=[1, 2, 3, 4]\n",
    "for version in versions:\n",
    "    client.delete_model_version(name=\"nyc-taxi-regressor\", version=version)\n",
    "    \"\"\""
   ]
  },
  {
   "cell_type": "code",
   "execution_count": null,
   "id": "5df0df6c-d310-4b23-a122-e1264ec8ba6e",
   "metadata": {},
   "outputs": [],
   "source": []
  },
  {
   "cell_type": "code",
   "execution_count": 7,
   "id": "d97ff1b3-bb01-459e-b6d5-6b2585e5b4b4",
   "metadata": {},
   "outputs": [
    {
     "name": "stderr",
     "output_type": "stream",
     "text": [
      "2025/07/13 06:24:56 INFO mlflow.store.db.utils: Creating initial MLflow database tables...\n",
      "2025/07/13 06:24:56 INFO mlflow.store.db.utils: Updating database tables\n",
      "INFO  [alembic.runtime.migration] Context impl SQLiteImpl.\n",
      "INFO  [alembic.runtime.migration] Will assume non-transactional DDL.\n",
      "INFO  [alembic.runtime.migration] Context impl SQLiteImpl.\n",
      "INFO  [alembic.runtime.migration] Will assume non-transactional DDL.\n"
     ]
    },
    {
     "data": {
      "text/plain": [
       "[<Experiment: artifact_location='/home/ubuntu/mlops-zoomcamp/02-experiment-tracking/mlruns/3', creation_time=1752305490359, experiment_id='3', last_update_time=1752305490359, lifecycle_stage='active', name='my-cool-experiment', tags={}>,\n",
       " <Experiment: artifact_location='/home/ubuntu/mlops-zoomcamp/02-experiment-tracking/mlruns/1', creation_time=1751630361732, experiment_id='1', last_update_time=1751630361732, lifecycle_stage='active', name='nyc-taxi-experiment', tags={}>,\n",
       " <Experiment: artifact_location='/home/ubuntu/mlops-zoomcamp/02-experiment-tracking/mlruns/0', creation_time=1751630361721, experiment_id='0', last_update_time=1751630361721, lifecycle_stage='active', name='Default', tags={}>]"
      ]
     },
     "execution_count": 7,
     "metadata": {},
     "output_type": "execute_result"
    }
   ],
   "source": [
    "client = MlflowClient(tracking_uri=MLFLOW_TRACKING_URI)\n",
    "\n",
    "client.search_experiments()"
   ]
  },
  {
   "cell_type": "code",
   "execution_count": 8,
   "id": "d9d914f7-9eaf-4818-a174-d106b64d1cca",
   "metadata": {},
   "outputs": [],
   "source": [
    "#client.create_experiment(name=\"my-cool-experiment\")"
   ]
  },
  {
   "cell_type": "code",
   "execution_count": 9,
   "id": "ef25f967-4478-4314-bc72-d17aa670ce03",
   "metadata": {},
   "outputs": [],
   "source": [
    "from mlflow.entities import ViewType\n",
    "\n",
    "runs = client.search_runs(\n",
    "    experiment_ids='1',\n",
    "    filter_string=\"metrics.rmse < 7\",\n",
    "    run_view_type=ViewType.ACTIVE_ONLY,\n",
    "    max_results=5,\n",
    "    order_by=[\"metrics.rmse ASC\"]\n",
    ")"
   ]
  },
  {
   "cell_type": "code",
   "execution_count": 10,
   "id": "baa579fb-3b80-4814-aa06-5db4a81805b8",
   "metadata": {},
   "outputs": [
    {
     "data": {
      "text/plain": [
       "[<Run: data=<RunData: metrics={'rmse': 6.382890997561556}, params={'learning_rate': '0.762462343335014',\n",
       "  'max_depth': '71',\n",
       "  'min_child_weight': '2.114707949297767',\n",
       "  'objective': 'reg:linear',\n",
       "  'reg_alpha': '0.027072086783107102',\n",
       "  'reg_lambda': '0.1387828814896677',\n",
       "  'seed': '42'}, tags={'mlflow.runName': 'youthful-shark-756',\n",
       "  'mlflow.source.name': '/home/ubuntu/miniconda3/envs/exp-tracking-env/lib/python3.10/site-packages/ipykernel_launcher.py',\n",
       "  'mlflow.source.type': 'LOCAL',\n",
       "  'mlflow.user': 'ubuntu',\n",
       "  'model': 'xgboost'}>, info=<RunInfo: artifact_uri='/home/ubuntu/mlops-zoomcamp/02-experiment-tracking/mlruns/1/44fce2fd7ec8412895e0381552db6373/artifacts', end_time=1751674416997, experiment_id='1', lifecycle_stage='active', run_id='44fce2fd7ec8412895e0381552db6373', run_name='youthful-shark-756', start_time=1751674265505, status='FINISHED', user_id='ubuntu'>, inputs=<RunInputs: dataset_inputs=[], model_inputs=[]>, outputs=None>,\n",
       " <Run: data=<RunData: metrics={'best_iteration': 499.0,\n",
       "  'rmse': 6.446593301913683,\n",
       "  'stopped_iteration': 499.0,\n",
       "  'validation-rmse': 6.446593303386053}, params={'custom_metric': 'None',\n",
       "  'early_stopping_rounds': '30',\n",
       "  'learning_rate': '0.27283707400899754',\n",
       "  'max_depth': '7',\n",
       "  'maximize': 'None',\n",
       "  'min_child_weight': '3.6559755218812566',\n",
       "  'n_jobs': '1',\n",
       "  'num_boost_round': '500',\n",
       "  'objective': 'reg:squarederror',\n",
       "  'reg_alpha': '0.29806420649486387',\n",
       "  'reg_lambda': '0.5308607957707008',\n",
       "  'seed': '42',\n",
       "  'tree_method': 'hist',\n",
       "  'verbose_eval': 'False'}, tags={'mlflow.runName': 'luminous-snail-7',\n",
       "  'mlflow.source.name': '/home/ubuntu/miniconda3/envs/exp-tracking-env/lib/python3.10/site-packages/ipykernel_launcher.py',\n",
       "  'mlflow.source.type': 'LOCAL',\n",
       "  'mlflow.user': 'ubuntu',\n",
       "  'model': 'xgboost'}>, info=<RunInfo: artifact_uri='/home/ubuntu/mlops-zoomcamp/02-experiment-tracking/mlruns/1/85d9455d486a4df195dfce41dcc8fefe/artifacts', end_time=1752379713820, experiment_id='1', lifecycle_stage='active', run_id='85d9455d486a4df195dfce41dcc8fefe', run_name='luminous-snail-7', start_time=1752379560927, status='FINISHED', user_id='ubuntu'>, inputs=<RunInputs: dataset_inputs=[], model_inputs=[]>, outputs=None>,\n",
       " <Run: data=<RunData: metrics={'best_iteration': 499.0,\n",
       "  'rmse': 6.449169310259481,\n",
       "  'stopped_iteration': 499.0,\n",
       "  'validation-rmse': 6.449169308465134}, params={'custom_metric': 'None',\n",
       "  'early_stopping_rounds': '30',\n",
       "  'learning_rate': '0.2462519876423951',\n",
       "  'max_depth': '8',\n",
       "  'maximize': 'None',\n",
       "  'min_child_weight': '2.5603110025319364',\n",
       "  'n_jobs': '1',\n",
       "  'num_boost_round': '500',\n",
       "  'objective': 'reg:squarederror',\n",
       "  'reg_alpha': '0.9717221134042544',\n",
       "  'reg_lambda': '0.9881331523134076',\n",
       "  'seed': '42',\n",
       "  'tree_method': 'hist',\n",
       "  'verbose_eval': 'False'}, tags={'mlflow.runName': 'mercurial-croc-289',\n",
       "  'mlflow.source.name': '/home/ubuntu/miniconda3/envs/exp-tracking-env/lib/python3.10/site-packages/ipykernel_launcher.py',\n",
       "  'mlflow.source.type': 'LOCAL',\n",
       "  'mlflow.user': 'ubuntu',\n",
       "  'model': 'xgboost'}>, info=<RunInfo: artifact_uri='/home/ubuntu/mlops-zoomcamp/02-experiment-tracking/mlruns/1/d3d257171995453899d10e4850edd0b0/artifacts', end_time=1752379276919, experiment_id='1', lifecycle_stage='active', run_id='d3d257171995453899d10e4850edd0b0', run_name='mercurial-croc-289', start_time=1752379132667, status='FINISHED', user_id='ubuntu'>, inputs=<RunInputs: dataset_inputs=[], model_inputs=[]>, outputs=None>,\n",
       " <Run: data=<RunData: metrics={'best_iteration': 499.0,\n",
       "  'rmse': 6.464968754102267,\n",
       "  'stopped_iteration': 499.0,\n",
       "  'validation-rmse': 6.464968754672761}, params={'custom_metric': 'None',\n",
       "  'early_stopping_rounds': '30',\n",
       "  'learning_rate': '0.20250177179365667',\n",
       "  'max_depth': '8',\n",
       "  'maximize': 'None',\n",
       "  'min_child_weight': '4.1720809395485094',\n",
       "  'n_jobs': '1',\n",
       "  'num_boost_round': '500',\n",
       "  'objective': 'reg:squarederror',\n",
       "  'reg_alpha': '0.5296110629941172',\n",
       "  'reg_lambda': '0.15936137361407954',\n",
       "  'seed': '42',\n",
       "  'tree_method': 'hist',\n",
       "  'verbose_eval': 'False'}, tags={'mlflow.runName': 'hilarious-shark-767',\n",
       "  'mlflow.source.name': '/home/ubuntu/miniconda3/envs/exp-tracking-env/lib/python3.10/site-packages/ipykernel_launcher.py',\n",
       "  'mlflow.source.type': 'LOCAL',\n",
       "  'mlflow.user': 'ubuntu',\n",
       "  'model': 'xgboost'}>, info=<RunInfo: artifact_uri='/home/ubuntu/mlops-zoomcamp/02-experiment-tracking/mlruns/1/417387225cdf48b1acbe0ed63ffdfc25/artifacts', end_time=1752380156691, experiment_id='1', lifecycle_stage='active', run_id='417387225cdf48b1acbe0ed63ffdfc25', run_name='hilarious-shark-767', start_time=1752380005114, status='FINISHED', user_id='ubuntu'>, inputs=<RunInputs: dataset_inputs=[], model_inputs=[]>, outputs=None>,\n",
       " <Run: data=<RunData: metrics={'best_iteration': 499.0,\n",
       "  'rmse': 6.480227513331364,\n",
       "  'stopped_iteration': 499.0,\n",
       "  'validation-rmse': 6.480227509072888}, params={'custom_metric': 'None',\n",
       "  'early_stopping_rounds': '30',\n",
       "  'learning_rate': '0.21360831810567887',\n",
       "  'max_depth': '7',\n",
       "  'maximize': 'None',\n",
       "  'min_child_weight': '2.0434119278493115',\n",
       "  'n_jobs': '1',\n",
       "  'num_boost_round': '500',\n",
       "  'objective': 'reg:squarederror',\n",
       "  'reg_alpha': '0.04558275253776678',\n",
       "  'reg_lambda': '0.7868210083727993',\n",
       "  'seed': '42',\n",
       "  'tree_method': 'hist',\n",
       "  'verbose_eval': 'False'}, tags={'mlflow.runName': 'secretive-doe-542',\n",
       "  'mlflow.source.name': '/home/ubuntu/miniconda3/envs/exp-tracking-env/lib/python3.10/site-packages/ipykernel_launcher.py',\n",
       "  'mlflow.source.type': 'LOCAL',\n",
       "  'mlflow.user': 'ubuntu',\n",
       "  'model': 'xgboost'}>, info=<RunInfo: artifact_uri='/home/ubuntu/mlops-zoomcamp/02-experiment-tracking/mlruns/1/6f8eb0a18c0c4c0694b4edeff42c92c8/artifacts', end_time=1752379411324, experiment_id='1', lifecycle_stage='active', run_id='6f8eb0a18c0c4c0694b4edeff42c92c8', run_name='secretive-doe-542', start_time=1752379277218, status='FINISHED', user_id='ubuntu'>, inputs=<RunInputs: dataset_inputs=[], model_inputs=[]>, outputs=None>]"
      ]
     },
     "execution_count": 10,
     "metadata": {},
     "output_type": "execute_result"
    }
   ],
   "source": [
    "runs"
   ]
  },
  {
   "cell_type": "code",
   "execution_count": 11,
   "id": "7f70f31f-f423-41c1-8bb8-25c918fa84fc",
   "metadata": {},
   "outputs": [
    {
     "name": "stdout",
     "output_type": "stream",
     "text": [
      "run id: 44fce2fd7ec8412895e0381552db6373, rmse: 6.3829\n",
      "run id: 85d9455d486a4df195dfce41dcc8fefe, rmse: 6.4466\n",
      "run id: d3d257171995453899d10e4850edd0b0, rmse: 6.4492\n",
      "run id: 417387225cdf48b1acbe0ed63ffdfc25, rmse: 6.4650\n",
      "run id: 6f8eb0a18c0c4c0694b4edeff42c92c8, rmse: 6.4802\n"
     ]
    }
   ],
   "source": [
    "for run in runs:\n",
    "    print(f\"run id: {run.info.run_id}, rmse: {run.data.metrics['rmse']:.4f}\")"
   ]
  },
  {
   "cell_type": "code",
   "execution_count": null,
   "id": "253c3975-7509-4709-a47d-b03454011671",
   "metadata": {},
   "outputs": [],
   "source": []
  },
  {
   "cell_type": "code",
   "execution_count": 12,
   "id": "c75da6e6-cee6-46cc-aedc-d0d5d97da60b",
   "metadata": {},
   "outputs": [],
   "source": [
    "import mlflow\n",
    "\n",
    "mlflow.set_tracking_uri(MLFLOW_TRACKING_URI)"
   ]
  },
  {
   "cell_type": "code",
   "execution_count": 15,
   "id": "b3753f72-beeb-49d5-b89c-0b96ead14bca",
   "metadata": {},
   "outputs": [
    {
     "name": "stderr",
     "output_type": "stream",
     "text": [
      "Registered model 'nyc-taxi-regressor' already exists. Creating a new version of this model...\n",
      "2025/07/13 06:26:52 WARNING mlflow.tracking._model_registry.fluent: Run with id 88e60341de4a4d628f04a1b19aa02885 has no artifacts at artifact path 'models_mlflow', registering model based on models:/m-f7cf7ab287ff469798fa2c5cfca4e58b instead\n",
      "Created version '10' of model 'nyc-taxi-regressor'.\n"
     ]
    },
    {
     "data": {
      "text/plain": [
       "<ModelVersion: aliases=[], creation_timestamp=1752388012766, current_stage='None', deployment_job_state=None, description=None, last_updated_timestamp=1752388012766, metrics=None, model_id=None, name='nyc-taxi-regressor', params=None, run_id='88e60341de4a4d628f04a1b19aa02885', run_link=None, source='models:/m-f7cf7ab287ff469798fa2c5cfca4e58b', status='READY', status_message=None, tags={}, user_id=None, version=10>"
      ]
     },
     "execution_count": 15,
     "metadata": {},
     "output_type": "execute_result"
    }
   ],
   "source": [
    "run_id = \"88e60341de4a4d628f04a1b19aa02885\"\n",
    "model_uri = f\"runs:/{run_id}/models_mlflow\"\n",
    "mlflow.register_model(model_uri=model_uri, name=\"nyc-taxi-regressor\")"
   ]
  },
  {
   "cell_type": "code",
   "execution_count": 16,
   "id": "e533bd4f-a036-449f-9333-d8d978a7eef8",
   "metadata": {},
   "outputs": [
    {
     "data": {
      "text/plain": [
       "'runs:/88e60341de4a4d628f04a1b19aa02885/models_mlflow'"
      ]
     },
     "execution_count": 16,
     "metadata": {},
     "output_type": "execute_result"
    }
   ],
   "source": [
    "model_uri"
   ]
  },
  {
   "cell_type": "code",
   "execution_count": 22,
   "id": "f319c7f5-fce7-48a6-b906-4638b916bca6",
   "metadata": {},
   "outputs": [
    {
     "name": "stderr",
     "output_type": "stream",
     "text": [
      "/tmp/ipykernel_589944/669935608.py:2: FutureWarning: ``mlflow.tracking.client.MlflowClient.get_latest_versions`` is deprecated since 2.9.0. Model registry stages will be removed in a future major release. To learn more about the deprecation of model registry stages, see our migration guide here: https://mlflow.org/docs/latest/model-registry.html#migrating-from-stages\n",
      "  latest_versions = client.get_latest_versions(name=model_name)\n"
     ]
    },
    {
     "name": "stdout",
     "output_type": "stream",
     "text": [
      "version: 9, stage: Staging\n",
      "version: 10, stage: None\n"
     ]
    }
   ],
   "source": [
    "model_name = \"nyc-taxi-regressor\"\n",
    "latest_versions = client.get_latest_versions(name=model_name)\n",
    "\n",
    "for version in latest_versions:\n",
    "    print(f\"version: {version.version}, stage: {version.current_stage}\")"
   ]
  },
  {
   "cell_type": "code",
   "execution_count": 23,
   "id": "2a0518f4-cef7-49c2-9150-d6e68a59b15f",
   "metadata": {},
   "outputs": [
    {
     "name": "stderr",
     "output_type": "stream",
     "text": [
      "/tmp/ipykernel_589944/1504810992.py:3: FutureWarning: ``mlflow.tracking.client.MlflowClient.transition_model_version_stage`` is deprecated since 2.9.0. Model registry stages will be removed in a future major release. To learn more about the deprecation of model registry stages, see our migration guide here: https://mlflow.org/docs/latest/model-registry.html#migrating-from-stages\n",
      "  client.transition_model_version_stage(\n"
     ]
    },
    {
     "data": {
      "text/plain": [
       "<ModelVersion: aliases=[], creation_timestamp=1752388012766, current_stage='Staging', deployment_job_state=None, description=None, last_updated_timestamp=1752389080867, metrics=None, model_id=None, name='nyc-taxi-regressor', params=None, run_id='88e60341de4a4d628f04a1b19aa02885', run_link=None, source='models:/m-f7cf7ab287ff469798fa2c5cfca4e58b', status='READY', status_message=None, tags={}, user_id=None, version=10>"
      ]
     },
     "execution_count": 23,
     "metadata": {},
     "output_type": "execute_result"
    }
   ],
   "source": [
    "model_version = 10\n",
    "new_stage = \"Staging\"\n",
    "client.transition_model_version_stage(\n",
    "    name=model_name,\n",
    "    version=model_version,\n",
    "    stage=new_stage,\n",
    "    archive_existing_versions=False\n",
    ")"
   ]
  },
  {
   "cell_type": "code",
   "execution_count": 24,
   "id": "cc39e7de-966e-491d-8b1b-4786f856cbca",
   "metadata": {},
   "outputs": [
    {
     "data": {
      "text/plain": [
       "<ModelVersion: aliases=[], creation_timestamp=1752388012766, current_stage='Staging', deployment_job_state=None, description='The model version 10 was transitioned to Staging on 2025-07-13', last_updated_timestamp=1752389243209, metrics=None, model_id=None, name='nyc-taxi-regressor', params=None, run_id='88e60341de4a4d628f04a1b19aa02885', run_link=None, source='models:/m-f7cf7ab287ff469798fa2c5cfca4e58b', status='READY', status_message=None, tags={}, user_id=None, version=10>"
      ]
     },
     "execution_count": 24,
     "metadata": {},
     "output_type": "execute_result"
    }
   ],
   "source": [
    "from datetime import datetime\n",
    "\n",
    "date = datetime.today().date()\n",
    "client.update_model_version(\n",
    "    name=model_name,\n",
    "    version=model_version,\n",
    "    description=f\"The model version {model_version} was transitioned to {new_stage} on {date}\"\n",
    ")"
   ]
  },
  {
   "cell_type": "code",
   "execution_count": 33,
   "id": "132f0a72-f219-4872-b1be-ac3fa15a6099",
   "metadata": {},
   "outputs": [
    {
     "name": "stderr",
     "output_type": "stream",
     "text": [
      "/tmp/ipykernel_589944/3344094314.py:3: FutureWarning: ``mlflow.tracking.client.MlflowClient.transition_model_version_stage`` is deprecated since 2.9.0. Model registry stages will be removed in a future major release. To learn more about the deprecation of model registry stages, see our migration guide here: https://mlflow.org/docs/latest/model-registry.html#migrating-from-stages\n",
      "  client.transition_model_version_stage(\n"
     ]
    },
    {
     "data": {
      "text/plain": [
       "<ModelVersion: aliases=[], creation_timestamp=1752387834917, current_stage='Production', deployment_job_state=None, description='', last_updated_timestamp=1752390776057, metrics=None, model_id=None, name='nyc-taxi-regressor', params=None, run_id='', run_link='', source='/home/ubuntu/mlops-zoomcamp/02-experiment-tracking/mlruns/1/models/m-f7cf7ab287ff469798fa2c5cfca4e58b/artifacts', status='READY', status_message=None, tags={}, user_id=None, version=9>"
      ]
     },
     "execution_count": 33,
     "metadata": {},
     "output_type": "execute_result"
    }
   ],
   "source": [
    "model_version = 9\n",
    "new_stage = \"Production\"\n",
    "client.transition_model_version_stage(\n",
    "    name=model_name,\n",
    "    version=model_version,\n",
    "    stage=new_stage,\n",
    "    archive_existing_versions=False\n",
    ")"
   ]
  },
  {
   "cell_type": "code",
   "execution_count": 34,
   "id": "ef53d693-4ce3-4936-9c03-cbf1a5d30e85",
   "metadata": {},
   "outputs": [
    {
     "data": {
      "text/plain": [
       "<ModelVersion: aliases=[], creation_timestamp=1752387834917, current_stage='Production', deployment_job_state=None, description='Moved to Production on 2025-07-13', last_updated_timestamp=1752390777212, metrics=None, model_id=None, name='nyc-taxi-regressor', params=None, run_id='', run_link='', source='/home/ubuntu/mlops-zoomcamp/02-experiment-tracking/mlruns/1/models/m-f7cf7ab287ff469798fa2c5cfca4e58b/artifacts', status='READY', status_message=None, tags={}, user_id=None, version=9>"
      ]
     },
     "execution_count": 34,
     "metadata": {},
     "output_type": "execute_result"
    }
   ],
   "source": [
    "from datetime import datetime\n",
    "\n",
    "date = datetime.today().date()\n",
    "client.update_model_version(\n",
    "    name=model_name,\n",
    "    version=model_version,\n",
    "    description=f\"Moved to {new_stage} on {date}\"\n",
    ")"
   ]
  },
  {
   "cell_type": "code",
   "execution_count": null,
   "id": "0263d0e7-557b-4a69-a5b3-c2f7983e8ba9",
   "metadata": {},
   "outputs": [],
   "source": []
  },
  {
   "cell_type": "code",
   "execution_count": 46,
   "id": "eb915435-5a62-4f7d-895a-dc6b3226c21f",
   "metadata": {},
   "outputs": [],
   "source": [
    "from sklearn.metrics import root_mean_squared_error"
   ]
  },
  {
   "cell_type": "code",
   "execution_count": 37,
   "id": "14d1e8c9-069c-499b-9cb3-6a7af1a2a2d3",
   "metadata": {},
   "outputs": [],
   "source": [
    "from sklearn.metrics import mean_squared_error\n",
    "import pandas as pd\n",
    "\n",
    "\n",
    "def read_dataframe(filename):\n",
    "    df = pd.read_csv(filename)\n",
    "\n",
    "    df.lpep_dropoff_datetime = pd.to_datetime(df.lpep_dropoff_datetime)\n",
    "    df.lpep_pickup_datetime = pd.to_datetime(df.lpep_pickup_datetime)\n",
    "\n",
    "    df['duration'] = df.lpep_dropoff_datetime - df.lpep_pickup_datetime\n",
    "    df.duration = df.duration.apply(lambda td: td.total_seconds() / 60)\n",
    "\n",
    "    df = df[(df.duration >= 1) & (df.duration <= 60)]\n",
    "\n",
    "    categorical = ['PULocationID', 'DOLocationID']\n",
    "    df[categorical] = df[categorical].astype(str)\n",
    "    \n",
    "    return df\n",
    "\n",
    "\n",
    "def preprocess(df, dv):\n",
    "    df['PU_DO'] = df['PULocationID'] + '_' + df['DOLocationID']\n",
    "    categorical = ['PU_DO']\n",
    "    numerical = ['trip_distance']\n",
    "    train_dicts = df[categorical + numerical].to_dict(orient='records')\n",
    "    return dv.transform(train_dicts)\n",
    "\n",
    "\n",
    "def test_model(name, stage, X_test, y_test):\n",
    "    model = mlflow.pyfunc.load_model(f\"models:/{name}/{stage}\")\n",
    "    y_pred = model.predict(X_test)\n",
    "    return {\"rmse\": root_mean_squared_error(y_test, y_pred)}"
   ]
  },
  {
   "cell_type": "code",
   "execution_count": 38,
   "id": "93588382-0ba9-4867-96a1-4e45307d5026",
   "metadata": {},
   "outputs": [
    {
     "name": "stderr",
     "output_type": "stream",
     "text": [
      "/tmp/ipykernel_589944/3034582247.py:6: DtypeWarning: Columns (3) have mixed types. Specify dtype option on import or set low_memory=False.\n",
      "  df = pd.read_csv(filename)\n"
     ]
    }
   ],
   "source": [
    "df = read_dataframe(\"data/green_tripdata_2021-03.csv\")"
   ]
  },
  {
   "cell_type": "code",
   "execution_count": 39,
   "id": "13129a3a-f89b-4e61-a9a6-07b3bbb494de",
   "metadata": {},
   "outputs": [
    {
     "data": {
      "text/html": [
       "<div>\n",
       "<style scoped>\n",
       "    .dataframe tbody tr th:only-of-type {\n",
       "        vertical-align: middle;\n",
       "    }\n",
       "\n",
       "    .dataframe tbody tr th {\n",
       "        vertical-align: top;\n",
       "    }\n",
       "\n",
       "    .dataframe thead th {\n",
       "        text-align: right;\n",
       "    }\n",
       "</style>\n",
       "<table border=\"1\" class=\"dataframe\">\n",
       "  <thead>\n",
       "    <tr style=\"text-align: right;\">\n",
       "      <th></th>\n",
       "      <th>VendorID</th>\n",
       "      <th>lpep_pickup_datetime</th>\n",
       "      <th>lpep_dropoff_datetime</th>\n",
       "      <th>store_and_fwd_flag</th>\n",
       "      <th>RatecodeID</th>\n",
       "      <th>PULocationID</th>\n",
       "      <th>DOLocationID</th>\n",
       "      <th>passenger_count</th>\n",
       "      <th>trip_distance</th>\n",
       "      <th>fare_amount</th>\n",
       "      <th>...</th>\n",
       "      <th>mta_tax</th>\n",
       "      <th>tip_amount</th>\n",
       "      <th>tolls_amount</th>\n",
       "      <th>ehail_fee</th>\n",
       "      <th>improvement_surcharge</th>\n",
       "      <th>total_amount</th>\n",
       "      <th>payment_type</th>\n",
       "      <th>trip_type</th>\n",
       "      <th>congestion_surcharge</th>\n",
       "      <th>duration</th>\n",
       "    </tr>\n",
       "  </thead>\n",
       "  <tbody>\n",
       "    <tr>\n",
       "      <th>0</th>\n",
       "      <td>2.0</td>\n",
       "      <td>2021-03-01 00:05:42</td>\n",
       "      <td>2021-03-01 00:14:03</td>\n",
       "      <td>N</td>\n",
       "      <td>1.0</td>\n",
       "      <td>83</td>\n",
       "      <td>129</td>\n",
       "      <td>1.0</td>\n",
       "      <td>1.56</td>\n",
       "      <td>7.50</td>\n",
       "      <td>...</td>\n",
       "      <td>0.5</td>\n",
       "      <td>0.00</td>\n",
       "      <td>0.00</td>\n",
       "      <td>NaN</td>\n",
       "      <td>0.3</td>\n",
       "      <td>8.80</td>\n",
       "      <td>1.0</td>\n",
       "      <td>1.0</td>\n",
       "      <td>0.0</td>\n",
       "      <td>8.350000</td>\n",
       "    </tr>\n",
       "    <tr>\n",
       "      <th>1</th>\n",
       "      <td>2.0</td>\n",
       "      <td>2021-03-01 00:21:03</td>\n",
       "      <td>2021-03-01 00:26:17</td>\n",
       "      <td>N</td>\n",
       "      <td>1.0</td>\n",
       "      <td>243</td>\n",
       "      <td>235</td>\n",
       "      <td>1.0</td>\n",
       "      <td>0.96</td>\n",
       "      <td>6.00</td>\n",
       "      <td>...</td>\n",
       "      <td>0.5</td>\n",
       "      <td>0.00</td>\n",
       "      <td>0.00</td>\n",
       "      <td>NaN</td>\n",
       "      <td>0.3</td>\n",
       "      <td>7.30</td>\n",
       "      <td>2.0</td>\n",
       "      <td>1.0</td>\n",
       "      <td>0.0</td>\n",
       "      <td>5.233333</td>\n",
       "    </tr>\n",
       "    <tr>\n",
       "      <th>2</th>\n",
       "      <td>2.0</td>\n",
       "      <td>2021-03-01 00:02:06</td>\n",
       "      <td>2021-03-01 00:22:26</td>\n",
       "      <td>N</td>\n",
       "      <td>1.0</td>\n",
       "      <td>75</td>\n",
       "      <td>242</td>\n",
       "      <td>1.0</td>\n",
       "      <td>9.93</td>\n",
       "      <td>28.00</td>\n",
       "      <td>...</td>\n",
       "      <td>0.5</td>\n",
       "      <td>2.00</td>\n",
       "      <td>0.00</td>\n",
       "      <td>NaN</td>\n",
       "      <td>0.3</td>\n",
       "      <td>31.30</td>\n",
       "      <td>1.0</td>\n",
       "      <td>1.0</td>\n",
       "      <td>0.0</td>\n",
       "      <td>20.333333</td>\n",
       "    </tr>\n",
       "    <tr>\n",
       "      <th>3</th>\n",
       "      <td>2.0</td>\n",
       "      <td>2021-03-01 00:24:03</td>\n",
       "      <td>2021-03-01 00:31:43</td>\n",
       "      <td>N</td>\n",
       "      <td>1.0</td>\n",
       "      <td>242</td>\n",
       "      <td>208</td>\n",
       "      <td>1.0</td>\n",
       "      <td>2.57</td>\n",
       "      <td>9.50</td>\n",
       "      <td>...</td>\n",
       "      <td>0.5</td>\n",
       "      <td>0.00</td>\n",
       "      <td>0.00</td>\n",
       "      <td>NaN</td>\n",
       "      <td>0.3</td>\n",
       "      <td>10.80</td>\n",
       "      <td>2.0</td>\n",
       "      <td>1.0</td>\n",
       "      <td>0.0</td>\n",
       "      <td>7.666667</td>\n",
       "    </tr>\n",
       "    <tr>\n",
       "      <th>4</th>\n",
       "      <td>1.0</td>\n",
       "      <td>2021-03-01 00:11:10</td>\n",
       "      <td>2021-03-01 00:14:46</td>\n",
       "      <td>N</td>\n",
       "      <td>1.0</td>\n",
       "      <td>41</td>\n",
       "      <td>151</td>\n",
       "      <td>1.0</td>\n",
       "      <td>0.80</td>\n",
       "      <td>5.00</td>\n",
       "      <td>...</td>\n",
       "      <td>0.5</td>\n",
       "      <td>1.85</td>\n",
       "      <td>0.00</td>\n",
       "      <td>NaN</td>\n",
       "      <td>0.3</td>\n",
       "      <td>8.15</td>\n",
       "      <td>1.0</td>\n",
       "      <td>1.0</td>\n",
       "      <td>0.0</td>\n",
       "      <td>3.600000</td>\n",
       "    </tr>\n",
       "    <tr>\n",
       "      <th>...</th>\n",
       "      <td>...</td>\n",
       "      <td>...</td>\n",
       "      <td>...</td>\n",
       "      <td>...</td>\n",
       "      <td>...</td>\n",
       "      <td>...</td>\n",
       "      <td>...</td>\n",
       "      <td>...</td>\n",
       "      <td>...</td>\n",
       "      <td>...</td>\n",
       "      <td>...</td>\n",
       "      <td>...</td>\n",
       "      <td>...</td>\n",
       "      <td>...</td>\n",
       "      <td>...</td>\n",
       "      <td>...</td>\n",
       "      <td>...</td>\n",
       "      <td>...</td>\n",
       "      <td>...</td>\n",
       "      <td>...</td>\n",
       "      <td>...</td>\n",
       "    </tr>\n",
       "    <tr>\n",
       "      <th>83822</th>\n",
       "      <td>NaN</td>\n",
       "      <td>2021-03-18 13:00:00</td>\n",
       "      <td>2021-03-18 13:41:00</td>\n",
       "      <td>NaN</td>\n",
       "      <td>NaN</td>\n",
       "      <td>247</td>\n",
       "      <td>77</td>\n",
       "      <td>NaN</td>\n",
       "      <td>18.32</td>\n",
       "      <td>38.20</td>\n",
       "      <td>...</td>\n",
       "      <td>0.0</td>\n",
       "      <td>0.00</td>\n",
       "      <td>6.12</td>\n",
       "      <td>NaN</td>\n",
       "      <td>0.3</td>\n",
       "      <td>50.12</td>\n",
       "      <td>NaN</td>\n",
       "      <td>NaN</td>\n",
       "      <td>NaN</td>\n",
       "      <td>41.000000</td>\n",
       "    </tr>\n",
       "    <tr>\n",
       "      <th>83823</th>\n",
       "      <td>NaN</td>\n",
       "      <td>2021-03-18 13:02:00</td>\n",
       "      <td>2021-03-18 13:33:00</td>\n",
       "      <td>NaN</td>\n",
       "      <td>NaN</td>\n",
       "      <td>85</td>\n",
       "      <td>37</td>\n",
       "      <td>NaN</td>\n",
       "      <td>4.23</td>\n",
       "      <td>25.95</td>\n",
       "      <td>...</td>\n",
       "      <td>0.0</td>\n",
       "      <td>0.00</td>\n",
       "      <td>0.00</td>\n",
       "      <td>NaN</td>\n",
       "      <td>0.3</td>\n",
       "      <td>29.00</td>\n",
       "      <td>NaN</td>\n",
       "      <td>NaN</td>\n",
       "      <td>NaN</td>\n",
       "      <td>31.000000</td>\n",
       "    </tr>\n",
       "    <tr>\n",
       "      <th>83824</th>\n",
       "      <td>NaN</td>\n",
       "      <td>2021-03-18 13:07:00</td>\n",
       "      <td>2021-03-18 13:34:00</td>\n",
       "      <td>NaN</td>\n",
       "      <td>NaN</td>\n",
       "      <td>209</td>\n",
       "      <td>42</td>\n",
       "      <td>NaN</td>\n",
       "      <td>10.03</td>\n",
       "      <td>41.11</td>\n",
       "      <td>...</td>\n",
       "      <td>0.0</td>\n",
       "      <td>0.00</td>\n",
       "      <td>0.00</td>\n",
       "      <td>NaN</td>\n",
       "      <td>0.3</td>\n",
       "      <td>44.16</td>\n",
       "      <td>NaN</td>\n",
       "      <td>NaN</td>\n",
       "      <td>NaN</td>\n",
       "      <td>27.000000</td>\n",
       "    </tr>\n",
       "    <tr>\n",
       "      <th>83825</th>\n",
       "      <td>NaN</td>\n",
       "      <td>2021-03-18 13:59:00</td>\n",
       "      <td>2021-03-18 14:06:00</td>\n",
       "      <td>NaN</td>\n",
       "      <td>NaN</td>\n",
       "      <td>42</td>\n",
       "      <td>74</td>\n",
       "      <td>NaN</td>\n",
       "      <td>0.84</td>\n",
       "      <td>11.95</td>\n",
       "      <td>...</td>\n",
       "      <td>0.0</td>\n",
       "      <td>0.00</td>\n",
       "      <td>0.00</td>\n",
       "      <td>NaN</td>\n",
       "      <td>0.3</td>\n",
       "      <td>15.00</td>\n",
       "      <td>NaN</td>\n",
       "      <td>NaN</td>\n",
       "      <td>NaN</td>\n",
       "      <td>7.000000</td>\n",
       "    </tr>\n",
       "    <tr>\n",
       "      <th>83826</th>\n",
       "      <td>NaN</td>\n",
       "      <td>2021-03-18 13:27:00</td>\n",
       "      <td>2021-03-18 13:35:00</td>\n",
       "      <td>NaN</td>\n",
       "      <td>NaN</td>\n",
       "      <td>22</td>\n",
       "      <td>11</td>\n",
       "      <td>NaN</td>\n",
       "      <td>0.70</td>\n",
       "      <td>12.82</td>\n",
       "      <td>...</td>\n",
       "      <td>0.0</td>\n",
       "      <td>0.00</td>\n",
       "      <td>0.00</td>\n",
       "      <td>NaN</td>\n",
       "      <td>0.3</td>\n",
       "      <td>15.87</td>\n",
       "      <td>NaN</td>\n",
       "      <td>NaN</td>\n",
       "      <td>NaN</td>\n",
       "      <td>8.000000</td>\n",
       "    </tr>\n",
       "  </tbody>\n",
       "</table>\n",
       "<p>80372 rows × 21 columns</p>\n",
       "</div>"
      ],
      "text/plain": [
       "       VendorID lpep_pickup_datetime lpep_dropoff_datetime store_and_fwd_flag  \\\n",
       "0           2.0  2021-03-01 00:05:42   2021-03-01 00:14:03                  N   \n",
       "1           2.0  2021-03-01 00:21:03   2021-03-01 00:26:17                  N   \n",
       "2           2.0  2021-03-01 00:02:06   2021-03-01 00:22:26                  N   \n",
       "3           2.0  2021-03-01 00:24:03   2021-03-01 00:31:43                  N   \n",
       "4           1.0  2021-03-01 00:11:10   2021-03-01 00:14:46                  N   \n",
       "...         ...                  ...                   ...                ...   \n",
       "83822       NaN  2021-03-18 13:00:00   2021-03-18 13:41:00                NaN   \n",
       "83823       NaN  2021-03-18 13:02:00   2021-03-18 13:33:00                NaN   \n",
       "83824       NaN  2021-03-18 13:07:00   2021-03-18 13:34:00                NaN   \n",
       "83825       NaN  2021-03-18 13:59:00   2021-03-18 14:06:00                NaN   \n",
       "83826       NaN  2021-03-18 13:27:00   2021-03-18 13:35:00                NaN   \n",
       "\n",
       "       RatecodeID PULocationID DOLocationID  passenger_count  trip_distance  \\\n",
       "0             1.0           83          129              1.0           1.56   \n",
       "1             1.0          243          235              1.0           0.96   \n",
       "2             1.0           75          242              1.0           9.93   \n",
       "3             1.0          242          208              1.0           2.57   \n",
       "4             1.0           41          151              1.0           0.80   \n",
       "...           ...          ...          ...              ...            ...   \n",
       "83822         NaN          247           77              NaN          18.32   \n",
       "83823         NaN           85           37              NaN           4.23   \n",
       "83824         NaN          209           42              NaN          10.03   \n",
       "83825         NaN           42           74              NaN           0.84   \n",
       "83826         NaN           22           11              NaN           0.70   \n",
       "\n",
       "       fare_amount  ...  mta_tax  tip_amount  tolls_amount  ehail_fee  \\\n",
       "0             7.50  ...      0.5        0.00          0.00        NaN   \n",
       "1             6.00  ...      0.5        0.00          0.00        NaN   \n",
       "2            28.00  ...      0.5        2.00          0.00        NaN   \n",
       "3             9.50  ...      0.5        0.00          0.00        NaN   \n",
       "4             5.00  ...      0.5        1.85          0.00        NaN   \n",
       "...            ...  ...      ...         ...           ...        ...   \n",
       "83822        38.20  ...      0.0        0.00          6.12        NaN   \n",
       "83823        25.95  ...      0.0        0.00          0.00        NaN   \n",
       "83824        41.11  ...      0.0        0.00          0.00        NaN   \n",
       "83825        11.95  ...      0.0        0.00          0.00        NaN   \n",
       "83826        12.82  ...      0.0        0.00          0.00        NaN   \n",
       "\n",
       "       improvement_surcharge  total_amount  payment_type  trip_type  \\\n",
       "0                        0.3          8.80           1.0        1.0   \n",
       "1                        0.3          7.30           2.0        1.0   \n",
       "2                        0.3         31.30           1.0        1.0   \n",
       "3                        0.3         10.80           2.0        1.0   \n",
       "4                        0.3          8.15           1.0        1.0   \n",
       "...                      ...           ...           ...        ...   \n",
       "83822                    0.3         50.12           NaN        NaN   \n",
       "83823                    0.3         29.00           NaN        NaN   \n",
       "83824                    0.3         44.16           NaN        NaN   \n",
       "83825                    0.3         15.00           NaN        NaN   \n",
       "83826                    0.3         15.87           NaN        NaN   \n",
       "\n",
       "       congestion_surcharge   duration  \n",
       "0                       0.0   8.350000  \n",
       "1                       0.0   5.233333  \n",
       "2                       0.0  20.333333  \n",
       "3                       0.0   7.666667  \n",
       "4                       0.0   3.600000  \n",
       "...                     ...        ...  \n",
       "83822                   NaN  41.000000  \n",
       "83823                   NaN  31.000000  \n",
       "83824                   NaN  27.000000  \n",
       "83825                   NaN   7.000000  \n",
       "83826                   NaN   8.000000  \n",
       "\n",
       "[80372 rows x 21 columns]"
      ]
     },
     "execution_count": 39,
     "metadata": {},
     "output_type": "execute_result"
    }
   ],
   "source": [
    "df"
   ]
  },
  {
   "cell_type": "code",
   "execution_count": 40,
   "id": "edeb091e-9a85-424c-bec3-03f4d6ba85c7",
   "metadata": {},
   "outputs": [
    {
     "data": {
      "application/vnd.jupyter.widget-view+json": {
       "model_id": "6770ec88dd2e46d2b8b01c38954ceeeb",
       "version_major": 2,
       "version_minor": 0
      },
      "text/plain": [
       "Downloading artifacts:   0%|          | 0/1 [00:00<?, ?it/s]"
      ]
     },
     "metadata": {},
     "output_type": "display_data"
    },
    {
     "data": {
      "text/plain": [
       "'/home/ubuntu/mlops-zoomcamp/02-experiment-tracking/preprocessor'"
      ]
     },
     "execution_count": 40,
     "metadata": {},
     "output_type": "execute_result"
    }
   ],
   "source": [
    "client.download_artifacts(run_id=run_id, path='preprocessor', dst_path='.')"
   ]
  },
  {
   "cell_type": "code",
   "execution_count": 41,
   "id": "15ee066c-998d-4e40-98a2-ad29d9373f1a",
   "metadata": {},
   "outputs": [],
   "source": [
    "import pickle\n",
    "\n",
    "with open(\"preprocessor/preprocessor.b\", \"rb\") as f_in:\n",
    "    dv = pickle.load(f_in)"
   ]
  },
  {
   "cell_type": "code",
   "execution_count": 42,
   "id": "67105326-7eba-40aa-954f-9fabb43612f0",
   "metadata": {},
   "outputs": [],
   "source": [
    "X_test = preprocess(df, dv)"
   ]
  },
  {
   "cell_type": "code",
   "execution_count": 43,
   "id": "25a483bc-b850-4163-aa47-3f7a1d6122da",
   "metadata": {},
   "outputs": [],
   "source": [
    "target = \"duration\"\n",
    "y_test = df[target].values"
   ]
  },
  {
   "cell_type": "code",
   "execution_count": 47,
   "id": "7db379c9-e108-4455-b4e9-ca1420dfd765",
   "metadata": {},
   "outputs": [
    {
     "name": "stdout",
     "output_type": "stream",
     "text": [
      "CPU times: user 2.99 s, sys: 0 ns, total: 2.99 s\n",
      "Wall time: 3.07 s\n"
     ]
    },
    {
     "data": {
      "text/plain": [
       "{'rmse': 6.577335225172821}"
      ]
     },
     "execution_count": 47,
     "metadata": {},
     "output_type": "execute_result"
    }
   ],
   "source": [
    "%time test_model(name=model_name, stage=\"Production\", X_test=X_test, y_test=y_test)"
   ]
  },
  {
   "cell_type": "code",
   "execution_count": 48,
   "id": "7d1b87f9-5e98-4079-a969-328eba998f30",
   "metadata": {},
   "outputs": [
    {
     "name": "stdout",
     "output_type": "stream",
     "text": [
      "CPU times: user 3.04 s, sys: 0 ns, total: 3.04 s\n",
      "Wall time: 3.42 s\n"
     ]
    },
    {
     "data": {
      "text/plain": [
       "{'rmse': 6.577335225172821}"
      ]
     },
     "execution_count": 48,
     "metadata": {},
     "output_type": "execute_result"
    }
   ],
   "source": [
    "%time test_model(name=model_name, stage=\"Staging\", X_test=X_test, y_test=y_test)"
   ]
  },
  {
   "cell_type": "code",
   "execution_count": null,
   "id": "341501f2-e3a3-4d61-8314-779abb4ebe07",
   "metadata": {},
   "outputs": [],
   "source": [
    "client.transition_model_version_stage(\n",
    "    name=model_name,\n",
    "    version=10,\n",
    "    stage=\"Production\",\n",
    "    archive_existing_versions=True\n",
    ")"
   ]
  },
  {
   "cell_type": "code",
   "execution_count": null,
   "id": "838d5998-8c3b-4b43-a604-73ac7a12b316",
   "metadata": {},
   "outputs": [],
   "source": []
  }
 ],
 "metadata": {
  "kernelspec": {
   "display_name": "Python 3 (ipykernel)",
   "language": "python",
   "name": "python3"
  },
  "language_info": {
   "codemirror_mode": {
    "name": "ipython",
    "version": 3
   },
   "file_extension": ".py",
   "mimetype": "text/x-python",
   "name": "python",
   "nbconvert_exporter": "python",
   "pygments_lexer": "ipython3",
   "version": "3.10.18"
  }
 },
 "nbformat": 4,
 "nbformat_minor": 5
}
