{
 "cells": [
  {
   "cell_type": "code",
   "execution_count": 1,
   "id": "27730692-bbb7-43c7-9fda-804eba15f249",
   "metadata": {},
   "outputs": [
    {
     "name": "stdout",
     "output_type": "stream",
     "text": [
      "Python 3.10.18\n"
     ]
    }
   ],
   "source": [
    "!python -V"
   ]
  },
  {
   "cell_type": "code",
   "execution_count": 2,
   "id": "30bd6676-24db-4473-9bec-8a68a8a3741a",
   "metadata": {},
   "outputs": [],
   "source": [
    "import os\n",
    "import numpy as np\n",
    "import pandas as pd\n",
    "import pickle\n",
    "import seaborn as sns\n",
    "import matplotlib.pyplot as plt\n",
    "from sklearn.feature_extraction import DictVectorizer\n",
    "from sklearn.linear_model import LinearRegression\n",
    "from sklearn.linear_model import Lasso\n",
    "from sklearn.linear_model import Ridge\n",
    "from sklearn.ensemble import RandomForestRegressor, ExtraTreesRegressor\n",
    "from sklearn.svm import LinearSVR\n",
    "from sklearn.ensemble import GradientBoostingRegressor\n",
    "from sklearn.metrics import (\n",
    "    root_mean_squared_error,\n",
    "    mean_squared_error, \n",
    "    mean_absolute_error, \n",
    "    r2_score, \n",
    "    mean_absolute_percentage_error,\n",
    "    explained_variance_score,\n",
    "    max_error,\n",
    "    median_absolute_error\n",
    ")\n",
    "import math\n",
    "from math import sqrt"
   ]
  },
  {
   "cell_type": "code",
   "execution_count": 3,
   "id": "a2b02842-436b-48bb-8d61-d6b61772b79a",
   "metadata": {},
   "outputs": [
    {
     "name": "stderr",
     "output_type": "stream",
     "text": [
      "2025/07/13 03:58:30 INFO mlflow.store.db.utils: Creating initial MLflow database tables...\n",
      "2025/07/13 03:58:30 INFO mlflow.store.db.utils: Updating database tables\n",
      "INFO  [alembic.runtime.migration] Context impl SQLiteImpl.\n",
      "INFO  [alembic.runtime.migration] Will assume non-transactional DDL.\n",
      "INFO  [alembic.runtime.migration] Context impl SQLiteImpl.\n",
      "INFO  [alembic.runtime.migration] Will assume non-transactional DDL.\n"
     ]
    },
    {
     "data": {
      "text/plain": [
       "<Experiment: artifact_location='/home/ubuntu/mlops-zoomcamp/02-experiment-tracking/mlruns/1', creation_time=1751630361732, experiment_id='1', last_update_time=1751630361732, lifecycle_stage='active', name='nyc-taxi-experiment', tags={}>"
      ]
     },
     "execution_count": 3,
     "metadata": {},
     "output_type": "execute_result"
    }
   ],
   "source": [
    "import mlflow\n",
    "mlflow.xgboost.autolog()\n",
    "\n",
    "mlflow.set_tracking_uri(\"sqlite:///mlflow.db\")\n",
    "mlflow.set_experiment(\"nyc-taxi-experiment\")"
   ]
  },
  {
   "cell_type": "code",
   "execution_count": 4,
   "id": "b0990bc5-c054-4baf-8620-d9eaa23e429f",
   "metadata": {},
   "outputs": [],
   "source": [
    "def read_dataframe(filename):\n",
    "    df = pd.read_csv(filename)\n",
    "\n",
    "    df.lpep_dropoff_datetime = pd.to_datetime(df.lpep_dropoff_datetime)\n",
    "    df.lpep_pickup_datetime = pd.to_datetime(df.lpep_pickup_datetime)\n",
    "\n",
    "    df['duration'] = df.lpep_dropoff_datetime - df.lpep_pickup_datetime\n",
    "    df.duration = df.duration.apply(lambda td: td.total_seconds() / 60)\n",
    "\n",
    "    df = df[(df.duration >= 1) & (df.duration <= 60)]\n",
    "\n",
    "    categorical = ['PULocationID', 'DOLocationID']\n",
    "    df[categorical] = df[categorical].astype(str)\n",
    "    \n",
    "    return df"
   ]
  },
  {
   "cell_type": "code",
   "execution_count": 5,
   "id": "4ece6d63-776b-4234-85a5-38cceab9f822",
   "metadata": {},
   "outputs": [
    {
     "name": "stderr",
     "output_type": "stream",
     "text": [
      "/tmp/ipykernel_564163/3970424726.py:2: DtypeWarning: Columns (3) have mixed types. Specify dtype option on import or set low_memory=False.\n",
      "  df = pd.read_csv(filename)\n"
     ]
    }
   ],
   "source": [
    "df_train = read_dataframe('./data/green_tripdata_2021-01.csv')\n",
    "df_val = read_dataframe('./data/green_tripdata_2021-02.csv')"
   ]
  },
  {
   "cell_type": "code",
   "execution_count": 6,
   "id": "1cab1c08-c119-4d27-9255-a9ca7fe1c8ae",
   "metadata": {},
   "outputs": [
    {
     "data": {
      "text/plain": [
       "(73908, 61921)"
      ]
     },
     "execution_count": 6,
     "metadata": {},
     "output_type": "execute_result"
    }
   ],
   "source": [
    "len(df_train), len(df_val)"
   ]
  },
  {
   "cell_type": "code",
   "execution_count": 7,
   "id": "9249c009-bb6b-49b5-912f-9e61b2d72b44",
   "metadata": {},
   "outputs": [],
   "source": [
    "df_train['PU_DO'] = df_train['PULocationID'] + '_' + df_train['DOLocationID']\n",
    "df_val['PU_DO'] = df_val['PULocationID'] + '_' + df_val['DOLocationID']"
   ]
  },
  {
   "cell_type": "code",
   "execution_count": 8,
   "id": "cadbfd02-56c5-4208-ac37-3edb9213c433",
   "metadata": {},
   "outputs": [],
   "source": [
    "categorical = ['PU_DO'] #'PULocationID', 'DOLocationID']\n",
    "numerical = ['trip_distance']\n",
    "\n",
    "dv = DictVectorizer()\n",
    "\n",
    "train_dicts = df_train[categorical + numerical].to_dict(orient='records')\n",
    "X_train = dv.fit_transform(train_dicts)\n",
    "\n",
    "val_dicts = df_val[categorical + numerical].to_dict(orient='records')\n",
    "X_val = dv.transform(val_dicts)"
   ]
  },
  {
   "cell_type": "code",
   "execution_count": 9,
   "id": "f76a1605-46ce-47e0-aa2e-84eded6a822e",
   "metadata": {},
   "outputs": [],
   "source": [
    "target = 'duration'\n",
    "y_train = df_train[target].values\n",
    "y_val = df_val[target].values"
   ]
  },
  {
   "cell_type": "code",
   "execution_count": 10,
   "id": "4cb2a24a-65d8-4b4d-af3a-8ad898bce2dc",
   "metadata": {},
   "outputs": [],
   "source": [
    "lr = LinearRegression()\n",
    "lr.fit(X_train, y_train)\n",
    "\n",
    "y_pred = lr.predict(X_val)"
   ]
  },
  {
   "cell_type": "code",
   "execution_count": 11,
   "id": "dd5f818e-6693-4e5d-b150-ada827238238",
   "metadata": {},
   "outputs": [
    {
     "data": {
      "text/plain": [
       "7.7587152060111135"
      ]
     },
     "execution_count": 11,
     "metadata": {},
     "output_type": "execute_result"
    }
   ],
   "source": [
    "root_mean_squared_error(y_val, y_pred)"
   ]
  },
  {
   "cell_type": "code",
   "execution_count": 12,
   "id": "27c52f7e-250b-4463-baab-97fc5be44e65",
   "metadata": {},
   "outputs": [],
   "source": [
    "with open('models/lin_reg.bin', 'wb') as f_out:\n",
    "    pickle.dump((dv, lr), f_out)"
   ]
  },
  {
   "cell_type": "code",
   "execution_count": 13,
   "id": "cfc56d04-18c9-4b4f-8021-6738f17107c8",
   "metadata": {},
   "outputs": [],
   "source": [
    "with mlflow.start_run():\n",
    "\n",
    "    mlflow.set_tag(\"developer\", \"cristian\")\n",
    "\n",
    "    mlflow.log_param(\"train-data-path\", \"./data/green_tripdata_2021-01.csv\")\n",
    "    mlflow.log_param(\"valid-data-path\", \"./data/green_tripdata_2021-02.csv\")\n",
    "\n",
    "    alpha = 0.1\n",
    "    mlflow.log_param(\"alpha\", alpha)\n",
    "    lr = Lasso(alpha)\n",
    "    lr.fit(X_train, y_train)\n",
    "\n",
    "    y_pred = lr.predict(X_val)\n",
    "    rmse = root_mean_squared_error(y_val, y_pred)\n",
    "    mlflow.log_metric(\"rmse\", rmse)\n",
    "\n",
    "    os.makedirs(\"models\", exist_ok=True)\n",
    "    # Anda perlu menyimpan model Lasso ke 'lin_reg.bin' di sini\n",
    "    # Contoh: import joblib; joblib.dump(lr, \"models/lin_reg.bin\")\n",
    "    \n",
    "    mlflow.log_artifact(local_path=\"models/lin_reg.bin\", artifact_path=\"models_pickle\")"
   ]
  },
  {
   "cell_type": "code",
   "execution_count": null,
   "id": "5dc3a5d2-2d80-4b5b-b35d-1392bea00c7b",
   "metadata": {},
   "outputs": [],
   "source": []
  },
  {
   "cell_type": "code",
   "execution_count": 14,
   "id": "08b3feac-0989-40a6-b5ba-e76524cda49c",
   "metadata": {},
   "outputs": [],
   "source": [
    "from datetime import datetime\n",
    "import xgboost as xgb\n",
    "import gc"
   ]
  },
  {
   "cell_type": "code",
   "execution_count": 15,
   "id": "8489b68b-bc31-4fc1-95f6-f6a03c7ba334",
   "metadata": {},
   "outputs": [],
   "source": [
    "from hyperopt import fmin, tpe, hp, STATUS_OK, Trials, space_eval\n",
    "from hyperopt.pyll import scope\n",
    "import logging"
   ]
  },
  {
   "cell_type": "code",
   "execution_count": 16,
   "id": "4b33abb6-5721-4701-9d49-c2410463d867",
   "metadata": {},
   "outputs": [],
   "source": [
    "train = xgb.DMatrix(X_train, label=y_train)\n",
    "valid = xgb.DMatrix(X_val, label=y_val)"
   ]
  },
  {
   "cell_type": "code",
   "execution_count": 17,
   "id": "61115ecc-492f-4cfc-9880-5cbcb17bbd32",
   "metadata": {},
   "outputs": [],
   "source": [
    "# Setup file untuk menyimpan hasil\n",
    "results_file = \"hyperopt_results.pkl\"\n",
    "checkpoint_file = \"hyperopt_checkpoint.pkl\"\n",
    "\n",
    "def objective(params):\n",
    "    # Cleanup sebelum mulai\n",
    "    gc.collect()\n",
    "    \n",
    "    with mlflow.start_run():\n",
    "        mlflow.set_tag(\"model\", \"xgboost\")\n",
    "        mlflow.log_params(params)\n",
    "        \n",
    "            \n",
    "        booster = xgb.train(\n",
    "            params=params,\n",
    "            dtrain=train,  # Pastikan nama parameter benar\n",
    "            num_boost_round=500,  # Kurangi dari 1000\n",
    "            evals=[(valid, 'validation')],\n",
    "            early_stopping_rounds=30,  # Kurangi dari 50\n",
    "            verbose_eval=False,\n",
    "            callbacks=None  # Hilangkan callback tambahan\n",
    "        )\n",
    "        \n",
    "        y_pred = booster.predict(valid)\n",
    "        rmse = root_mean_squared_error(y_val, y_pred)\n",
    "        mlflow.log_metric(\"rmse\", rmse)\n",
    "\n",
    "        input_example = train.slice(np.array([0])).get_data()\n",
    "\n",
    "        mlflow.xgboost.log_model(\n",
    "            xgb_model=booster,\n",
    "            name=\"xgboost_model\", # Menggunakan 'name' bukan 'artifact_path'\n",
    "            input_example=input_example,\n",
    "            registered_model_name=\"MyXGBoostModel\"\n",
    "        )\n",
    "        \n",
    "        # Cleanup langsung\n",
    "        del booster, y_pred\n",
    "        gc.collect()\n",
    "        \n",
    "    return {'loss': rmse, 'status': STATUS_OK}"
   ]
  },
  {
   "cell_type": "code",
   "execution_count": 18,
   "id": "17d7b4fb-b25e-48f8-b98e-6822cfce180c",
   "metadata": {},
   "outputs": [
    {
     "name": "stdout",
     "output_type": "stream",
     "text": [
      "Loaded 8 previous results\n",
      "=== Batch 1/4 ===\n",
      "  0%|                                                                                                                                             | 0/2 [00:00<?, ?trial/s, best loss=?]"
     ]
    },
    {
     "name": "stderr",
     "output_type": "stream",
     "text": [
      "2025/07/13 03:58:52 WARNING mlflow.xgboost: Failed to log dataset information to MLflow Tracking. Reason: Unable to allocate 3.64 GiB for an array with shape (73908, 13221) and data type float32\n",
      "\n",
      "2025/07/13 04:00:20 WARNING mlflow.models.model: `artifact_path` is deprecated. Please use `name` instead.\n",
      "\n",
      "2025/07/13 04:00:20 WARNING mlflow.utils.autologging_utils: MLflow autologging encountered a warning: \"/home/ubuntu/miniconda3/envs/exp-tracking-env/lib/python3.10/site-packages/mlflow/xgboost/__init__.py:168: UserWarning: [04:00:20] WARNING: /workspace/src/c_api/c_api.cc:1427: Saving model in the UBJSON format as default.  You can use file extension: `json`, `ubj` or `deprecated` to choose between formats.\"\n",
      "\n",
      "/home/ubuntu/miniconda3/envs/exp-tracking-env/lib/python3.10/site-packages/mlflow/xgboost/__init__.py:168: UserWarning: [04:01:02] WARNING: /workspace/src/c_api/c_api.cc:1427: Saving model in the UBJSON format as default.  You can use file extension: `json`, `ubj` or `deprecated` to choose between formats.\n",
      "  xgb_model.save_model(model_data_path)\n",
      "\n",
      "2025/07/13 04:01:12 INFO mlflow.store.db.utils: Creating initial MLflow database tables...\n",
      "\n",
      "2025/07/13 04:01:12 INFO mlflow.store.db.utils: Updating database tables\n",
      "\n",
      "INFO  [alembic.runtime.migration] Context impl SQLiteImpl.\n",
      "\n",
      "INFO  [alembic.runtime.migration] Will assume non-transactional DDL.\n",
      "\n",
      "Registered model 'MyXGBoostModel' already exists. Creating a new version of this model...\n",
      "Created version '17' of model 'MyXGBoostModel'.\n"
     ]
    },
    {
     "name": "stdout",
     "output_type": "stream",
     "text": [
      " 50%|█████████████████████████████████████████████████████████▌                                                         | 1/2 [02:24<02:24, 144.42s/trial, best loss: 6.449169310259481]"
     ]
    },
    {
     "name": "stderr",
     "output_type": "stream",
     "text": [
      "2025/07/13 04:01:17 WARNING mlflow.xgboost: Failed to log dataset information to MLflow Tracking. Reason: Unable to allocate 3.64 GiB for an array with shape (73908, 13221) and data type float32\n",
      "\n",
      "2025/07/13 04:02:43 WARNING mlflow.models.model: `artifact_path` is deprecated. Please use `name` instead.\n",
      "\n",
      "2025/07/13 04:02:43 WARNING mlflow.utils.autologging_utils: MLflow autologging encountered a warning: \"/home/ubuntu/miniconda3/envs/exp-tracking-env/lib/python3.10/site-packages/mlflow/xgboost/__init__.py:168: UserWarning: [04:02:43] WARNING: /workspace/src/c_api/c_api.cc:1427: Saving model in the UBJSON format as default.  You can use file extension: `json`, `ubj` or `deprecated` to choose between formats.\"\n",
      "\n",
      "/home/ubuntu/miniconda3/envs/exp-tracking-env/lib/python3.10/site-packages/mlflow/xgboost/__init__.py:168: UserWarning: [04:03:18] WARNING: /workspace/src/c_api/c_api.cc:1427: Saving model in the UBJSON format as default.  You can use file extension: `json`, `ubj` or `deprecated` to choose between formats.\n",
      "  xgb_model.save_model(model_data_path)\n",
      "\n",
      "Registered model 'MyXGBoostModel' already exists. Creating a new version of this model...\n",
      "Created version '18' of model 'MyXGBoostModel'.\n"
     ]
    },
    {
     "name": "stdout",
     "output_type": "stream",
     "text": [
      "100%|███████████████████████████████████████████████████████████████████████████████████████████████████████████████████| 2/2 [04:38<00:00, 139.41s/trial, best loss: 6.449169310259481]\n",
      "Batch 1 saved. Best RMSE: 6.4492\n",
      "--------------------------------------------------\n",
      "=== Batch 2/4 ===\n",
      " 50%|██████████████████████████████████████████████████████████████████████▌                                                                      | 2/4 [00:00<?, ?trial/s, best loss=?]"
     ]
    },
    {
     "name": "stderr",
     "output_type": "stream",
     "text": [
      "2025/07/13 04:03:36 WARNING mlflow.xgboost: Failed to log dataset information to MLflow Tracking. Reason: Unable to allocate 3.64 GiB for an array with shape (73908, 13221) and data type float32\n",
      "\n",
      "2025/07/13 04:04:58 WARNING mlflow.models.model: `artifact_path` is deprecated. Please use `name` instead.\n",
      "\n",
      "2025/07/13 04:04:58 WARNING mlflow.utils.autologging_utils: MLflow autologging encountered a warning: \"/home/ubuntu/miniconda3/envs/exp-tracking-env/lib/python3.10/site-packages/mlflow/xgboost/__init__.py:168: UserWarning: [04:04:58] WARNING: /workspace/src/c_api/c_api.cc:1427: Saving model in the UBJSON format as default.  You can use file extension: `json`, `ubj` or `deprecated` to choose between formats.\"\n",
      "\n",
      "/home/ubuntu/miniconda3/envs/exp-tracking-env/lib/python3.10/site-packages/mlflow/xgboost/__init__.py:168: UserWarning: [04:05:34] WARNING: /workspace/src/c_api/c_api.cc:1427: Saving model in the UBJSON format as default.  You can use file extension: `json`, `ubj` or `deprecated` to choose between formats.\n",
      "  xgb_model.save_model(model_data_path)\n",
      "\n",
      "Registered model 'MyXGBoostModel' already exists. Creating a new version of this model...\n",
      "Created version '19' of model 'MyXGBoostModel'.\n"
     ]
    },
    {
     "name": "stdout",
     "output_type": "stream",
     "text": [
      " 75%|██████████████████████████████████████████████████████████████████████████████████████▎                            | 3/4 [02:24<02:24, 144.12s/trial, best loss: 6.449169310259481]"
     ]
    },
    {
     "name": "stderr",
     "output_type": "stream",
     "text": [
      "2025/07/13 04:06:01 WARNING mlflow.xgboost: Failed to log dataset information to MLflow Tracking. Reason: Unable to allocate 3.64 GiB for an array with shape (73908, 13221) and data type float32\n",
      "\n",
      "2025/07/13 04:07:24 WARNING mlflow.models.model: `artifact_path` is deprecated. Please use `name` instead.\n",
      "\n",
      "2025/07/13 04:07:24 WARNING mlflow.utils.autologging_utils: MLflow autologging encountered a warning: \"/home/ubuntu/miniconda3/envs/exp-tracking-env/lib/python3.10/site-packages/mlflow/xgboost/__init__.py:168: UserWarning: [04:07:24] WARNING: /workspace/src/c_api/c_api.cc:1427: Saving model in the UBJSON format as default.  You can use file extension: `json`, `ubj` or `deprecated` to choose between formats.\"\n",
      "\n",
      "/home/ubuntu/miniconda3/envs/exp-tracking-env/lib/python3.10/site-packages/mlflow/xgboost/__init__.py:168: UserWarning: [04:08:06] WARNING: /workspace/src/c_api/c_api.cc:1427: Saving model in the UBJSON format as default.  You can use file extension: `json`, `ubj` or `deprecated` to choose between formats.\n",
      "  xgb_model.save_model(model_data_path)\n",
      "\n",
      "Registered model 'MyXGBoostModel' already exists. Creating a new version of this model...\n",
      "Created version '20' of model 'MyXGBoostModel'.\n"
     ]
    },
    {
     "name": "stdout",
     "output_type": "stream",
     "text": [
      "100%|███████████████████████████████████████████████████████████████████████████████████████████████████████████████████| 4/4 [04:57<00:00, 148.74s/trial, best loss: 6.446593301913683]\n",
      "Batch 2 saved. Best RMSE: 6.4466\n",
      "--------------------------------------------------\n",
      "=== Batch 3/4 ===\n",
      " 67%|██████████████████████████████████████████████████████████████████████████████████████████████                                               | 4/6 [00:00<?, ?trial/s, best loss=?]"
     ]
    },
    {
     "name": "stderr",
     "output_type": "stream",
     "text": [
      "2025/07/13 04:08:39 WARNING mlflow.xgboost: Failed to log dataset information to MLflow Tracking. Reason: Unable to allocate 3.64 GiB for an array with shape (73908, 13221) and data type float32\n",
      "\n",
      "2025/07/13 04:10:04 WARNING mlflow.models.model: `artifact_path` is deprecated. Please use `name` instead.\n",
      "\n",
      "2025/07/13 04:10:05 WARNING mlflow.utils.autologging_utils: MLflow autologging encountered a warning: \"/home/ubuntu/miniconda3/envs/exp-tracking-env/lib/python3.10/site-packages/mlflow/xgboost/__init__.py:168: UserWarning: [04:10:05] WARNING: /workspace/src/c_api/c_api.cc:1427: Saving model in the UBJSON format as default.  You can use file extension: `json`, `ubj` or `deprecated` to choose between formats.\"\n",
      "\n",
      "/home/ubuntu/miniconda3/envs/exp-tracking-env/lib/python3.10/site-packages/mlflow/xgboost/__init__.py:168: UserWarning: [04:10:31] WARNING: /workspace/src/c_api/c_api.cc:1427: Saving model in the UBJSON format as default.  You can use file extension: `json`, `ubj` or `deprecated` to choose between formats.\n",
      "  xgb_model.save_model(model_data_path)\n",
      "\n",
      "Registered model 'MyXGBoostModel' already exists. Creating a new version of this model...\n",
      "Created version '21' of model 'MyXGBoostModel'.\n"
     ]
    },
    {
     "name": "stdout",
     "output_type": "stream",
     "text": [
      " 83%|███████████████████████████████████████████████████████████████████████████████████████████████▊                   | 5/6 [02:19<02:19, 139.48s/trial, best loss: 6.446593301913683]"
     ]
    },
    {
     "name": "stderr",
     "output_type": "stream",
     "text": [
      "2025/07/13 04:10:59 WARNING mlflow.xgboost: Failed to log dataset information to MLflow Tracking. Reason: Unable to allocate 3.64 GiB for an array with shape (73908, 13221) and data type float32\n",
      "\n",
      "2025/07/13 04:12:25 WARNING mlflow.models.model: `artifact_path` is deprecated. Please use `name` instead.\n",
      "\n",
      "2025/07/13 04:12:26 WARNING mlflow.utils.autologging_utils: MLflow autologging encountered a warning: \"/home/ubuntu/miniconda3/envs/exp-tracking-env/lib/python3.10/site-packages/mlflow/xgboost/__init__.py:168: UserWarning: [04:12:26] WARNING: /workspace/src/c_api/c_api.cc:1427: Saving model in the UBJSON format as default.  You can use file extension: `json`, `ubj` or `deprecated` to choose between formats.\"\n",
      "\n",
      "/home/ubuntu/miniconda3/envs/exp-tracking-env/lib/python3.10/site-packages/mlflow/xgboost/__init__.py:168: UserWarning: [04:12:50] WARNING: /workspace/src/c_api/c_api.cc:1427: Saving model in the UBJSON format as default.  You can use file extension: `json`, `ubj` or `deprecated` to choose between formats.\n",
      "  xgb_model.save_model(model_data_path)\n",
      "\n",
      "Registered model 'MyXGBoostModel' already exists. Creating a new version of this model...\n",
      "Created version '22' of model 'MyXGBoostModel'.\n"
     ]
    },
    {
     "name": "stdout",
     "output_type": "stream",
     "text": [
      "100%|███████████████████████████████████████████████████████████████████████████████████████████████████████████████████| 6/6 [04:40<00:00, 140.28s/trial, best loss: 6.446593301913683]\n",
      "Batch 3 saved. Best RMSE: 6.4466\n",
      "--------------------------------------------------\n",
      "=== Batch 4/4 ===\n",
      " 75%|█████████████████████████████████████████████████████████████████████████████████████████████████████████▊                                   | 6/8 [00:00<?, ?trial/s, best loss=?]"
     ]
    },
    {
     "name": "stderr",
     "output_type": "stream",
     "text": [
      "2025/07/13 04:13:25 WARNING mlflow.xgboost: Failed to log dataset information to MLflow Tracking. Reason: Unable to allocate 3.64 GiB for an array with shape (73908, 13221) and data type float32\n",
      "\n",
      "2025/07/13 04:14:51 WARNING mlflow.models.model: `artifact_path` is deprecated. Please use `name` instead.\n",
      "\n",
      "2025/07/13 04:14:53 WARNING mlflow.utils.autologging_utils: MLflow autologging encountered a warning: \"/home/ubuntu/miniconda3/envs/exp-tracking-env/lib/python3.10/site-packages/mlflow/xgboost/__init__.py:168: UserWarning: [04:14:53] WARNING: /workspace/src/c_api/c_api.cc:1427: Saving model in the UBJSON format as default.  You can use file extension: `json`, `ubj` or `deprecated` to choose between formats.\"\n",
      "\n",
      "/home/ubuntu/miniconda3/envs/exp-tracking-env/lib/python3.10/site-packages/mlflow/xgboost/__init__.py:168: UserWarning: [04:15:22] WARNING: /workspace/src/c_api/c_api.cc:1427: Saving model in the UBJSON format as default.  You can use file extension: `json`, `ubj` or `deprecated` to choose between formats.\n",
      "  xgb_model.save_model(model_data_path)\n",
      "\n",
      "Registered model 'MyXGBoostModel' already exists. Creating a new version of this model...\n",
      "Created version '23' of model 'MyXGBoostModel'.\n"
     ]
    },
    {
     "name": "stdout",
     "output_type": "stream",
     "text": [
      " 88%|████████████████████████████████████████████████████████████████████████████████████████████████████▋              | 7/8 [02:32<02:32, 152.53s/trial, best loss: 6.446593301913683]"
     ]
    },
    {
     "name": "stderr",
     "output_type": "stream",
     "text": [
      "2025/07/13 04:15:58 WARNING mlflow.xgboost: Failed to log dataset information to MLflow Tracking. Reason: Unable to allocate 3.64 GiB for an array with shape (73908, 13221) and data type float32\n",
      "\n",
      "2025/07/13 04:17:24 WARNING mlflow.models.model: `artifact_path` is deprecated. Please use `name` instead.\n",
      "\n",
      "2025/07/13 04:17:25 WARNING mlflow.utils.autologging_utils: MLflow autologging encountered a warning: \"/home/ubuntu/miniconda3/envs/exp-tracking-env/lib/python3.10/site-packages/mlflow/xgboost/__init__.py:168: UserWarning: [04:17:25] WARNING: /workspace/src/c_api/c_api.cc:1427: Saving model in the UBJSON format as default.  You can use file extension: `json`, `ubj` or `deprecated` to choose between formats.\"\n",
      "\n",
      "/home/ubuntu/miniconda3/envs/exp-tracking-env/lib/python3.10/site-packages/mlflow/xgboost/__init__.py:168: UserWarning: [04:17:47] WARNING: /workspace/src/c_api/c_api.cc:1427: Saving model in the UBJSON format as default.  You can use file extension: `json`, `ubj` or `deprecated` to choose between formats.\n",
      "  xgb_model.save_model(model_data_path)\n",
      "\n",
      "Registered model 'MyXGBoostModel' already exists. Creating a new version of this model...\n",
      "Created version '24' of model 'MyXGBoostModel'.\n"
     ]
    },
    {
     "name": "stdout",
     "output_type": "stream",
     "text": [
      "100%|███████████████████████████████████████████████████████████████████████████████████████████████████████████████████| 8/8 [05:09<00:00, 154.88s/trial, best loss: 6.446593301913683]\n",
      "Batch 4 saved. Best RMSE: 6.4466\n",
      "--------------------------------------------------\n"
     ]
    }
   ],
   "source": [
    "# Search space yang lebih terbatas\n",
    "search_space = {\n",
    "    'max_depth': scope.int(hp.quniform('max_depth', 4, 8, 1)),  # Lebih kecil\n",
    "    'learning_rate': hp.uniform('learning_rate', 0.01, 0.3),  # Uniform lebih cepat\n",
    "    'reg_alpha': hp.uniform('reg_alpha', 0, 1),\n",
    "    'reg_lambda': hp.uniform('reg_lambda', 0, 1),\n",
    "    'min_child_weight': hp.uniform('min_child_weight', 1, 5),\n",
    "    'objective': 'reg:squarederror',\n",
    "    'seed': 42,\n",
    "    'n_jobs': 1,  # Single thread\n",
    "    'tree_method': 'hist'  # Lebih cepat\n",
    "}\n",
    "\n",
    "if os.path.exists(results_file):\n",
    "    with open(results_file, 'rb') as f:\n",
    "        saved_results = pickle.load(f)\n",
    "    print(f\"Loaded {len(saved_results)} previous results\")\n",
    "else:\n",
    "    saved_results = []\n",
    "\"\"\"\n",
    "# Load checkpoint jika ada\n",
    "if os.path.exists(checkpoint_file):\n",
    "    with open(checkpoint_file, 'rb') as f:\n",
    "        trials = pickle.load(f)\n",
    "    print(f\"Resuming from {len(trials.trials)} trials\")\n",
    "    start_batch = len(trials.trials)\n",
    "else:\n",
    "    trials = Trials()\n",
    "    start_batch = 0\n",
    "\"\"\"\n",
    "trials = Trials()\n",
    "start_batch = 0\n",
    "\n",
    "# Jalankan batch dengan checkpoint\n",
    "total_batches = 4\n",
    "batch_size = 2\n",
    "\n",
    "for batch in range(start_batch // batch_size, total_batches):\n",
    "    print(f\"=== Batch {batch+1}/{total_batches} ===\")\n",
    "    \n",
    "    # Jalankan hyperopt untuk batch ini\n",
    "    batch_result = fmin(\n",
    "        fn=objective,\n",
    "        space=search_space,\n",
    "        algo=tpe.suggest,\n",
    "        max_evals=len(trials.trials) + batch_size,\n",
    "        trials=trials,\n",
    "        verbose=True\n",
    "    )\n",
    "    \n",
    "    # Simpan hasil batch\n",
    "    batch_info = {\n",
    "        'batch': batch + 1,\n",
    "        'timestamp': datetime.now().isoformat(),\n",
    "        'best_params': batch_result,\n",
    "        'trials_count': len(trials.trials),\n",
    "        'best_loss': min([t['result']['loss'] for t in trials.trials])\n",
    "    }\n",
    "    \n",
    "    saved_results.append(batch_info)\n",
    "    \n",
    "    # Simpan ke file\n",
    "    with open(results_file, 'wb') as f:\n",
    "        pickle.dump(saved_results, f)\n",
    "    \n",
    "    with open(checkpoint_file, 'wb') as f:\n",
    "        pickle.dump(trials, f)\n",
    "    \n",
    "    print(f\"Batch {batch+1} saved. Best RMSE: {batch_info['best_loss']:.4f}\")\n",
    "    print(\"-\" * 50)\n",
    "    \n",
    "    # Jeda antar batch\n",
    "    import time\n",
    "    time.sleep(5)"
   ]
  },
  {
   "cell_type": "code",
   "execution_count": 19,
   "id": "16f42d12-a906-4495-add3-35e29b9b0fff",
   "metadata": {},
   "outputs": [
    {
     "name": "stdout",
     "output_type": "stream",
     "text": [
      "\n",
      "=== FINAL RESULTS ===\n",
      "Batch 1: RMSE = 6.5201\n",
      "Batch 2: RMSE = 6.5201\n",
      "Batch 3: RMSE = 6.5201\n",
      "Batch 4: RMSE = 6.4757\n",
      "Batch 1: RMSE = 6.6112\n",
      "Batch 2: RMSE = 6.4672\n",
      "Batch 3: RMSE = 6.4576\n",
      "Batch 4: RMSE = 6.4518\n",
      "Batch 1: RMSE = 6.4492\n",
      "Batch 2: RMSE = 6.4466\n",
      "Batch 3: RMSE = 6.4466\n",
      "Batch 4: RMSE = 6.4466\n"
     ]
    }
   ],
   "source": [
    "# Tampilkan hasil akhir\n",
    "print(\"\\n=== FINAL RESULTS ===\")\n",
    "for result in saved_results:\n",
    "    print(f\"Batch {result['batch']}: RMSE = {result['best_loss']:.4f}\")\n",
    "\n",
    "# Hasil terbaik\n",
    "best_trial = min(trials.trials, key=lambda x: x['result']['loss'])\n",
    "\n",
    "# Ekstrak parameter secara manual untuk menghindari error space_eval\n",
    "best_vals = best_trial['misc']['vals']\n",
    "best_params = {}\n",
    "for key, value in best_vals.items():\n",
    "    if isinstance(value, list) and len(value) > 0:\n",
    "        best_params[key] = value[0]  # Ambil nilai pertama jika berupa list\n",
    "    else:\n",
    "        best_params[key] = value"
   ]
  },
  {
   "cell_type": "code",
   "execution_count": 20,
   "id": "44b03dfb-f2c9-4096-8d71-c8bda13ba198",
   "metadata": {},
   "outputs": [
    {
     "name": "stdout",
     "output_type": "stream",
     "text": [
      "\n",
      "Best parameters: {'learning_rate': np.float64(0.27283707400899754), 'max_depth': np.float64(7.0), 'min_child_weight': np.float64(3.6559755218812566), 'reg_alpha': np.float64(0.29806420649486387), 'reg_lambda': np.float64(0.5308607957707008), 'objective': 'reg:squarederror', 'seed': 42, 'n_jobs': 1, 'tree_method': 'hist'}\n",
      "Best RMSE: 6.4466\n"
     ]
    }
   ],
   "source": [
    "# Tambahkan parameter yang tidak dioptimasi\n",
    "best_params['objective'] = 'reg:squarederror'\n",
    "best_params['seed'] = 42\n",
    "best_params['n_jobs'] = 1\n",
    "best_params['tree_method'] = 'hist'\n",
    "\n",
    "print(f\"\\nBest parameters: {best_params}\")\n",
    "print(f\"Best RMSE: {best_trial['result']['loss']:.4f}\")"
   ]
  },
  {
   "cell_type": "code",
   "execution_count": null,
   "id": "e39a7492-7056-4096-94cb-999abc201722",
   "metadata": {},
   "outputs": [],
   "source": []
  },
  {
   "cell_type": "code",
   "execution_count": 27,
   "id": "1577f006-56f8-4f92-9c9d-f17c0a3b46a4",
   "metadata": {},
   "outputs": [
    {
     "name": "stderr",
     "output_type": "stream",
     "text": [
      "2025/07/13 04:37:01 WARNING mlflow.models.model: `artifact_path` is deprecated. Please use `name` instead.\n",
      "/home/ubuntu/miniconda3/envs/exp-tracking-env/lib/python3.10/site-packages/mlflow/xgboost/__init__.py:168: UserWarning: [04:37:01] WARNING: /workspace/src/c_api/c_api.cc:1427: Saving model in the UBJSON format as default.  You can use file extension: `json`, `ubj` or `deprecated` to choose between formats.\n",
      "  xgb_model.save_model(model_data_path)\n"
     ]
    }
   ],
   "source": [
    "with mlflow.start_run():\n",
    "    \n",
    "    best_params = {\n",
    "        'learning_rate': 0.05442667102703115,\n",
    "        'max_depth': 6,\n",
    "        'min_child_weight': 1.4483212277452986,\n",
    "        'n_jobs': 1,\n",
    "        'objective': 'reg:squarederror',\n",
    "        'reg_alpha': 0.5356786455472234,\n",
    "        'reg_lambda': 0.09836262674462193,\n",
    "        'seed': 42,\n",
    "        'tree_method': 'hist'\n",
    "    }\n",
    "    \n",
    "    mlflow.log_params(best_params)\n",
    "    \n",
    "    booster = xgb.train(\n",
    "        params=best_params,\n",
    "        dtrain=train,\n",
    "        num_boost_round=500,\n",
    "        evals=[(valid, 'validation')],\n",
    "        early_stopping_rounds=30,\n",
    "        verbose_eval=False,\n",
    "        callbacks=None\n",
    "    )\n",
    "    \n",
    "    y_pred = booster.predict(valid)\n",
    "    rmse = root_mean_squared_error(y_val, y_pred)\n",
    "    mlflow.log_metric(\"rmse\", rmse)\n",
    "    input_example = train.slice(np.array([0])).get_data()\n",
    "    mlflow.xgboost.log_model(booster, artifact_path=\"models_mlflow\", input_example=input_example)"
   ]
  },
  {
   "cell_type": "code",
   "execution_count": 45,
   "id": "00d7eb40-634b-44f0-8115-e0fa653d3594",
   "metadata": {},
   "outputs": [],
   "source": [
    "mlflow.xgboost.autolog(disable=True)"
   ]
  },
  {
   "cell_type": "code",
   "execution_count": 46,
   "id": "c5b87e8f-8727-4b92-9bfe-685ed2909841",
   "metadata": {},
   "outputs": [],
   "source": [
    "# Buat DMatrix di luar mlflow.start_run()\n",
    "train = xgb.DMatrix(X_train, label=y_train)\n",
    "valid = xgb.DMatrix(X_val, label=y_val)"
   ]
  },
  {
   "cell_type": "code",
   "execution_count": 48,
   "id": "aa8f9126-8d9c-40f2-8bf5-bf23a114868e",
   "metadata": {},
   "outputs": [
    {
     "name": "stderr",
     "output_type": "stream",
     "text": [
      "2025/07/13 05:37:16 WARNING mlflow.models.model: `artifact_path` is deprecated. Please use `name` instead.\n",
      "/home/ubuntu/miniconda3/envs/exp-tracking-env/lib/python3.10/site-packages/mlflow/xgboost/__init__.py:168: UserWarning: [05:37:16] WARNING: /workspace/src/c_api/c_api.cc:1427: Saving model in the UBJSON format as default.  You can use file extension: `json`, `ubj` or `deprecated` to choose between formats.\n",
      "  xgb_model.save_model(model_data_path)\n",
      "\u001b[31m2025/07/13 05:37:24 WARNING mlflow.models.model: Model logged without a signature and input example. Please set `input_example` parameter when logging the model to auto infer the model signature.\u001b[0m\n"
     ]
    },
    {
     "name": "stdout",
     "output_type": "stream",
     "text": [
      "Run ID: 88e60341de4a4d628f04a1b19aa02885\n"
     ]
    }
   ],
   "source": [
    "# Pastikan folder models ada\n",
    "os.makedirs(\"models\", exist_ok=True)\n",
    "\n",
    "with mlflow.start_run():\n",
    "    \n",
    "    best_params = {\n",
    "        'learning_rate': 0.05442667102703115,\n",
    "        'max_depth': 6,\n",
    "        'min_child_weight': 1.4483212277452986,\n",
    "        'n_jobs': 1,\n",
    "        'objective': 'reg:squarederror',\n",
    "        'reg_alpha': 0.5356786455472234,\n",
    "        'reg_lambda': 0.09836262674462193,\n",
    "        'seed': 42,\n",
    "        'tree_method': 'hist'\n",
    "    }\n",
    "    \n",
    "    mlflow.log_params(best_params)\n",
    "    \n",
    "    booster = xgb.train(\n",
    "        params=best_params,\n",
    "        dtrain=train,\n",
    "        num_boost_round=500,\n",
    "        evals=[(valid, 'validation')],\n",
    "        early_stopping_rounds=30,\n",
    "        verbose_eval=False,\n",
    "        callbacks=None\n",
    "    )\n",
    "    \n",
    "    y_pred = booster.predict(valid)\n",
    "    rmse = root_mean_squared_error(y_val, y_pred)\n",
    "    mlflow.log_metric(\"rmse\", rmse)\n",
    "    \n",
    "    with open(\"models/preprocessor.b\", 'wb') as f_out:\n",
    "        pickle.dump(dv, f_out)\n",
    "        \n",
    "    mlflow.log_artifact(\"models/preprocessor.b\", artifact_path=\"preprocessor\")\n",
    "    \n",
    "    # Log model tanpa input_example\n",
    "    mlflow.xgboost.log_model(booster, artifact_path=\"models_mlflow\")\n",
    "    \n",
    "    run_id = mlflow.active_run().info.run_id\n",
    "    print(f\"Run ID: {run_id}\")"
   ]
  },
  {
   "cell_type": "code",
   "execution_count": 38,
   "id": "55c39345-7e2c-4cde-a09b-c2a3d9359be7",
   "metadata": {},
   "outputs": [
    {
     "data": {
      "application/vnd.jupyter.widget-view+json": {
       "model_id": "d9096273ff2c469fb95a07e46d5e33e7",
       "version_major": 2,
       "version_minor": 0
      },
      "text/plain": [
       "Downloading artifacts:   0%|          | 0/1 [00:00<?, ?it/s]"
      ]
     },
     "metadata": {},
     "output_type": "display_data"
    },
    {
     "data": {
      "application/vnd.jupyter.widget-view+json": {
       "model_id": "23aaf38a94fd42a482f95f6a4f5efebf",
       "version_major": 2,
       "version_minor": 0
      },
      "text/plain": [
       "Downloading artifacts:   0%|          | 0/5 [00:00<?, ?it/s]"
      ]
     },
     "metadata": {},
     "output_type": "display_data"
    }
   ],
   "source": [
    "logged_model = 'runs:/433039a7a89147358000fae4961164db/models_mlflow'\n",
    "loaded_model = mlflow.pyfunc.load_model(logged_model)"
   ]
  },
  {
   "cell_type": "code",
   "execution_count": 39,
   "id": "2510ccfb-9003-4663-bf2c-23185a725d6c",
   "metadata": {},
   "outputs": [
    {
     "data": {
      "text/plain": [
       "mlflow.pyfunc.loaded_model:\n",
       "  artifact_path: /home/ubuntu/mlops-zoomcamp/02-experiment-tracking/mlruns/1/models/m-cd88f4397a70467eb668c80d3c4ac20d/artifacts\n",
       "  flavor: mlflow.xgboost\n",
       "  run_id: 433039a7a89147358000fae4961164db"
      ]
     },
     "execution_count": 39,
     "metadata": {},
     "output_type": "execute_result"
    }
   ],
   "source": [
    "loaded_model"
   ]
  },
  {
   "cell_type": "code",
   "execution_count": 40,
   "id": "cd484a59-38b7-440a-93d3-8cc36dac8562",
   "metadata": {},
   "outputs": [
    {
     "data": {
      "application/vnd.jupyter.widget-view+json": {
       "model_id": "7b5f3d07e06047f78ad7d7824046c143",
       "version_major": 2,
       "version_minor": 0
      },
      "text/plain": [
       "Downloading artifacts:   0%|          | 0/1 [00:00<?, ?it/s]"
      ]
     },
     "metadata": {},
     "output_type": "display_data"
    },
    {
     "data": {
      "application/vnd.jupyter.widget-view+json": {
       "model_id": "5f49d41ec83146a58e47fdc3cef3423b",
       "version_major": 2,
       "version_minor": 0
      },
      "text/plain": [
       "Downloading artifacts:   0%|          | 0/5 [00:00<?, ?it/s]"
      ]
     },
     "metadata": {},
     "output_type": "display_data"
    }
   ],
   "source": [
    "xgboost_model = mlflow.xgboost.load_model(logged_model)"
   ]
  },
  {
   "cell_type": "code",
   "execution_count": 41,
   "id": "50130008-4f5c-46b0-b9cc-38c12d93cfc1",
   "metadata": {},
   "outputs": [
    {
     "data": {
      "text/plain": [
       "<xgboost.core.Booster at 0x7be313f32140>"
      ]
     },
     "execution_count": 41,
     "metadata": {},
     "output_type": "execute_result"
    }
   ],
   "source": [
    "xgboost_model"
   ]
  },
  {
   "cell_type": "code",
   "execution_count": 42,
   "id": "9aeff5a8-3d84-48f3-9743-0fae17ddb1ae",
   "metadata": {},
   "outputs": [],
   "source": [
    "y_pred = xgboost_model.predict(valid)"
   ]
  },
  {
   "cell_type": "code",
   "execution_count": 43,
   "id": "a999da7e-b50c-4600-a5c4-af1993af6a31",
   "metadata": {},
   "outputs": [
    {
     "data": {
      "text/plain": [
       "array([17.508398 ,  7.1751266, 20.776585 , 24.40614  , 10.17512  ,\n",
       "       17.121979 , 14.032827 ,  9.695784 ,  8.902082 , 16.678173 ],\n",
       "      dtype=float32)"
      ]
     },
     "execution_count": 43,
     "metadata": {},
     "output_type": "execute_result"
    }
   ],
   "source": [
    "y_pred[:10]"
   ]
  },
  {
   "cell_type": "code",
   "execution_count": 44,
   "id": "83b4ff0e-8f51-4c08-916d-e4327d11ef40",
   "metadata": {},
   "outputs": [
    {
     "data": {
      "text/plain": [
       "<Experiment: artifact_location='/home/ubuntu/mlops-zoomcamp/02-experiment-tracking/mlruns/1', creation_time=1751630361732, experiment_id='1', last_update_time=1751630361732, lifecycle_stage='active', name='nyc-taxi-experiment', tags={}>"
      ]
     },
     "execution_count": 44,
     "metadata": {},
     "output_type": "execute_result"
    }
   ],
   "source": [
    "# Set ke experiment yang sudah ada\n",
    "mlflow.set_experiment(\"nyc-taxi-experiment\")"
   ]
  },
  {
   "cell_type": "markdown",
   "id": "3876f579-fa8d-4cf9-95cc-f3665ed5306a",
   "metadata": {},
   "source": [
    "----"
   ]
  },
  {
   "cell_type": "code",
   "execution_count": null,
   "id": "b92bd154-e083-436f-b8f4-1522568ef17d",
   "metadata": {},
   "outputs": [],
   "source": []
  },
  {
   "cell_type": "code",
   "execution_count": null,
   "id": "a4215c4e-e563-40e2-b28d-a065e98db41b",
   "metadata": {},
   "outputs": [],
   "source": []
  },
  {
   "cell_type": "code",
   "execution_count": null,
   "id": "1c194cca-b93c-4e07-8fac-af32cd512a98",
   "metadata": {},
   "outputs": [],
   "source": []
  },
  {
   "cell_type": "code",
   "execution_count": null,
   "id": "38f5395e-904a-44c5-96f3-3c1a0a81f133",
   "metadata": {},
   "outputs": [],
   "source": []
  },
  {
   "cell_type": "code",
   "execution_count": null,
   "id": "2a7ff8af-6172-4954-9b7e-201d4bc6543f",
   "metadata": {},
   "outputs": [],
   "source": []
  },
  {
   "cell_type": "code",
   "execution_count": null,
   "id": "737356f1-5ef1-4715-a2c2-8e9a01863367",
   "metadata": {},
   "outputs": [],
   "source": []
  },
  {
   "cell_type": "code",
   "execution_count": null,
   "id": "a0b45e7b-9504-4f0f-9203-be7c014cf6f1",
   "metadata": {},
   "outputs": [],
   "source": []
  },
  {
   "cell_type": "code",
   "execution_count": null,
   "id": "ff4800d7-b885-46ad-b163-77fb4772eb9b",
   "metadata": {},
   "outputs": [],
   "source": []
  },
  {
   "cell_type": "code",
   "execution_count": 31,
   "id": "50baecbd-1c01-43cb-aca0-bc6613fba84d",
   "metadata": {},
   "outputs": [],
   "source": [
    "# =============================================================================\n",
    "# 1. RANDOM FOREST REGRESSOR\n",
    "# =============================================================================\n",
    "\n",
    "def train_random_forest(X_train, y_train, X_val, y_val, dv, best_params=None):\n",
    "    \"\"\"Train Random Forest dengan MLflow logging\"\"\"\n",
    "    \n",
    "    if best_params is None:\n",
    "        best_params = {\n",
    "            'n_estimators': 100,\n",
    "            'max_depth': 10,\n",
    "            'min_samples_split': 5,\n",
    "            'min_samples_leaf': 2,\n",
    "            'max_features': 'sqrt',\n",
    "            'random_state': 42,\n",
    "            'n_jobs': -1\n",
    "        }\n",
    "    \n",
    "    with mlflow.start_run():\n",
    "        mlflow.set_tag(\"model\", \"random_forest\")\n",
    "        mlflow.log_params(best_params)\n",
    "        \n",
    "        # Train model\n",
    "        rf_model = RandomForestRegressor(**best_params)\n",
    "        rf_model.fit(X_train, y_train)\n",
    "        \n",
    "        # Predict and evaluate\n",
    "        y_pred = rf_model.predict(X_val)\n",
    "        rmse = root_mean_squared_error(y_val, y_pred)\n",
    "        mlflow.log_metric(\"rmse\", rmse)\n",
    "        \n",
    "        # Save preprocessor\n",
    "        os.makedirs(\"models\", exist_ok=True)\n",
    "        with open(\"models/preprocessor.b\", 'wb') as f_out:\n",
    "            pickle.dump(dv, f_out)\n",
    "        mlflow.log_artifact(\"models/preprocessor.b\", artifact_path=\"preprocessor\")\n",
    "        \n",
    "        # Log model\n",
    "        input_example = X_train[:1]  # First sample as example\n",
    "        mlflow.sklearn.log_model(\n",
    "            sk_model=rf_model,\n",
    "            artifact_path=\"models_mlflow\",\n",
    "            input_example=input_example,\n",
    "            registered_model_name=\"MyRandomForestModel\"\n",
    "        )\n",
    "        \n",
    "        print(f\"Random Forest RMSE: {rmse:.4f}\")\n",
    "        return rf_model, rmse\n",
    "\n",
    "# Hyperparameter optimization untuk Random Forest\n",
    "def objective_rf(params):\n",
    "    gc.collect()\n",
    "    \n",
    "    with mlflow.start_run():\n",
    "        mlflow.set_tag(\"model\", \"random_forest\")\n",
    "        mlflow.log_params(params)\n",
    "        \n",
    "        rf_model = RandomForestRegressor(**params)\n",
    "        rf_model.fit(X_train, y_train)\n",
    "        \n",
    "        y_pred = rf_model.predict(X_val)\n",
    "        rmse = root_mean_squared_error(y_val, y_pred)\n",
    "        mlflow.log_metric(\"rmse\", rmse)\n",
    "        \n",
    "        input_example = X_train[:1]\n",
    "        mlflow.sklearn.log_model(\n",
    "            sk_model=rf_model,\n",
    "            artifact_path=\"models_mlflow\",\n",
    "            input_example=input_example,\n",
    "            registered_model_name=\"MyRandomForestModel\"\n",
    "        )\n",
    "        \n",
    "        del rf_model, y_pred\n",
    "        gc.collect()\n",
    "        \n",
    "    return {'loss': rmse, 'status': STATUS_OK}\n",
    "\n",
    "# Search space untuk Random Forest\n",
    "search_space_rf = {\n",
    "    'n_estimators': scope.int(hp.quniform('n_estimators', 50, 200, 10)),\n",
    "    'max_depth': scope.int(hp.quniform('max_depth', 5, 20, 1)),\n",
    "    'min_samples_split': scope.int(hp.quniform('min_samples_split', 2, 10, 1)),\n",
    "    'min_samples_leaf': scope.int(hp.quniform('min_samples_leaf', 1, 5, 1)),\n",
    "    'max_features': hp.choice('max_features', ['sqrt', 'log2', None]),\n",
    "    'random_state': 42,\n",
    "    'n_jobs': -1\n",
    "}"
   ]
  },
  {
   "cell_type": "code",
   "execution_count": 32,
   "id": "3a30a398-9b2f-4782-b56f-7069e035ef80",
   "metadata": {},
   "outputs": [],
   "source": [
    "# =============================================================================\n",
    "# 2. EXTRA TREES REGRESSOR\n",
    "# =============================================================================\n",
    "\n",
    "def train_extra_trees(X_train, y_train, X_val, y_val, dv, best_params=None):\n",
    "    \"\"\"Train Extra Trees dengan MLflow logging\"\"\"\n",
    "    \n",
    "    if best_params is None:\n",
    "        best_params = {\n",
    "            'n_estimators': 100,\n",
    "            'max_depth': 10,\n",
    "            'min_samples_split': 5,\n",
    "            'min_samples_leaf': 2,\n",
    "            'max_features': 'sqrt',\n",
    "            'random_state': 42,\n",
    "            'n_jobs': -1\n",
    "        }\n",
    "    \n",
    "    with mlflow.start_run():\n",
    "        mlflow.set_tag(\"model\", \"extra_trees\")\n",
    "        mlflow.log_params(best_params)\n",
    "        \n",
    "        # Train model\n",
    "        et_model = ExtraTreesRegressor(**best_params)\n",
    "        et_model.fit(X_train, y_train)\n",
    "        \n",
    "        # Predict and evaluate\n",
    "        y_pred = et_model.predict(X_val)\n",
    "        rmse = root_mean_squared_error(y_val, y_pred)\n",
    "        mlflow.log_metric(\"rmse\", rmse)\n",
    "        \n",
    "        # Save preprocessor\n",
    "        os.makedirs(\"models\", exist_ok=True)\n",
    "        with open(\"models/preprocessor.b\", 'wb') as f_out:\n",
    "            pickle.dump(dv, f_out)\n",
    "        mlflow.log_artifact(\"models/preprocessor.b\", artifact_path=\"preprocessor\")\n",
    "        \n",
    "        # Log model\n",
    "        input_example = X_train[:1]\n",
    "        mlflow.sklearn.log_model(\n",
    "            sk_model=et_model,\n",
    "            artifact_path=\"models_mlflow\",\n",
    "            input_example=input_example,\n",
    "            registered_model_name=\"MyExtraTreesModel\"\n",
    "        )\n",
    "        \n",
    "        print(f\"Extra Trees RMSE: {rmse:.4f}\")\n",
    "        return et_model, rmse\n",
    "\n",
    "# Hyperparameter optimization untuk Extra Trees\n",
    "def objective_et(params):\n",
    "    gc.collect()\n",
    "    \n",
    "    with mlflow.start_run():\n",
    "        mlflow.set_tag(\"model\", \"extra_trees\")\n",
    "        mlflow.log_params(params)\n",
    "        \n",
    "        et_model = ExtraTreesRegressor(**params)\n",
    "        et_model.fit(X_train, y_train)\n",
    "        \n",
    "        y_pred = et_model.predict(X_val)\n",
    "        rmse = root_mean_squared_error(y_val, y_pred)\n",
    "        mlflow.log_metric(\"rmse\", rmse)\n",
    "        \n",
    "        input_example = X_train[:1]\n",
    "        mlflow.sklearn.log_model(\n",
    "            sk_model=et_model,\n",
    "            artifact_path=\"models_mlflow\",\n",
    "            input_example=input_example,\n",
    "            registered_model_name=\"MyExtraTreesModel\"\n",
    "        )\n",
    "        \n",
    "        del et_model, y_pred\n",
    "        gc.collect()\n",
    "        \n",
    "    return {'loss': rmse, 'status': STATUS_OK}\n",
    "\n",
    "# Search space untuk Extra Trees (sama dengan Random Forest)\n",
    "search_space_et = search_space_rf.copy()"
   ]
  },
  {
   "cell_type": "code",
   "execution_count": 33,
   "id": "d734f26e-531c-4056-9b70-7c410f45b2af",
   "metadata": {},
   "outputs": [],
   "source": [
    "# =============================================================================\n",
    "# 3. LINEAR SVR\n",
    "# =============================================================================\n",
    "\n",
    "def train_linear_svr(X_train, y_train, X_val, y_val, dv, best_params=None):\n",
    "    \"\"\"Train Linear SVR dengan MLflow logging\"\"\"\n",
    "    \n",
    "    if best_params is None:\n",
    "        best_params = {\n",
    "            'epsilon': 0.1,\n",
    "            'C': 1.0,\n",
    "            'loss': 'epsilon_insensitive',\n",
    "            'random_state': 42,\n",
    "            'max_iter': 1000\n",
    "        }\n",
    "    \n",
    "    with mlflow.start_run():\n",
    "        mlflow.set_tag(\"model\", \"linear_svr\")\n",
    "        mlflow.log_params(best_params)\n",
    "        \n",
    "        # Train model\n",
    "        svr_model = LinearSVR(**best_params)\n",
    "        svr_model.fit(X_train, y_train)\n",
    "        \n",
    "        # Predict and evaluate\n",
    "        y_pred = svr_model.predict(X_val)\n",
    "        rmse = root_mean_squared_error(y_val, y_pred)\n",
    "        mlflow.log_metric(\"rmse\", rmse)\n",
    "        \n",
    "        # Save preprocessor\n",
    "        os.makedirs(\"models\", exist_ok=True)\n",
    "        with open(\"models/preprocessor.b\", 'wb') as f_out:\n",
    "            pickle.dump(dv, f_out)\n",
    "        mlflow.log_artifact(\"models/preprocessor.b\", artifact_path=\"preprocessor\")\n",
    "        \n",
    "        # Log model\n",
    "        input_example = X_train[:1]\n",
    "        mlflow.sklearn.log_model(\n",
    "            sk_model=svr_model,\n",
    "            artifact_path=\"models_mlflow\",\n",
    "            input_example=input_example,\n",
    "            registered_model_name=\"MyLinearSVRModel\"\n",
    "        )\n",
    "        \n",
    "        print(f\"Linear SVR RMSE: {rmse:.4f}\")\n",
    "        return svr_model, rmse\n",
    "\n",
    "# Hyperparameter optimization untuk Linear SVR\n",
    "def objective_svr(params):\n",
    "    gc.collect()\n",
    "    \n",
    "    with mlflow.start_run():\n",
    "        mlflow.set_tag(\"model\", \"linear_svr\")\n",
    "        mlflow.log_params(params)\n",
    "        \n",
    "        svr_model = LinearSVR(**params)\n",
    "        svr_model.fit(X_train, y_train)\n",
    "        \n",
    "        y_pred = svr_model.predict(X_val)\n",
    "        rmse = root_mean_squared_error(y_val, y_pred)\n",
    "        mlflow.log_metric(\"rmse\", rmse)\n",
    "        \n",
    "        input_example = X_train[:1]\n",
    "        mlflow.sklearn.log_model(\n",
    "            sk_model=svr_model,\n",
    "            artifact_path=\"models_mlflow\",\n",
    "            input_example=input_example,\n",
    "            registered_model_name=\"MyLinearSVRModel\"\n",
    "        )\n",
    "        \n",
    "        del svr_model, y_pred\n",
    "        gc.collect()\n",
    "        \n",
    "    return {'loss': rmse, 'status': STATUS_OK}\n",
    "\n",
    "# Search space untuk Linear SVR\n",
    "search_space_svr = {\n",
    "    'epsilon': hp.uniform('epsilon', 0.01, 0.5),\n",
    "    'C': hp.uniform('C', 0.1, 10.0),\n",
    "    'loss': hp.choice('loss', ['epsilon_insensitive', 'squared_epsilon_insensitive']),\n",
    "    'random_state': 42,\n",
    "    'max_iter': 2000\n",
    "}"
   ]
  },
  {
   "cell_type": "code",
   "execution_count": 34,
   "id": "55832f61-ce35-4b33-a20c-cc64162a9976",
   "metadata": {},
   "outputs": [],
   "source": [
    "# =============================================================================\n",
    "# FUNGSI UNTUK MENJALANKAN HYPERPARAMETER OPTIMIZATION\n",
    "# =============================================================================\n",
    "\n",
    "def run_hyperopt_for_model(model_name, objective_func, search_space, \n",
    "                          results_file, checkpoint_file, \n",
    "                          total_batches=4, batch_size=2):\n",
    "    \"\"\"Generic function untuk menjalankan hyperopt dengan checkpoint\"\"\"\n",
    "    \n",
    "    # Load previous results\n",
    "    if os.path.exists(results_file):\n",
    "        with open(results_file, 'rb') as f:\n",
    "            saved_results = pickle.load(f)\n",
    "        print(f\"Loaded {len(saved_results)} previous results for {model_name}\")\n",
    "    else:\n",
    "        saved_results = []\n",
    "    \n",
    "    # Load checkpoint\n",
    "    if os.path.exists(checkpoint_file):\n",
    "        with open(checkpoint_file, 'rb') as f:\n",
    "            trials = pickle.load(f)\n",
    "        print(f\"Resuming {model_name} from {len(trials.trials)} trials\")\n",
    "        start_batch = len(trials.trials)\n",
    "    else:\n",
    "        trials = Trials()\n",
    "        start_batch = 0\n",
    "    \n",
    "    # Run batches\n",
    "    for batch in range(start_batch // batch_size, total_batches):\n",
    "        print(f\"=== {model_name} Batch {batch+1}/{total_batches} ===\")\n",
    "        \n",
    "        batch_result = fmin(\n",
    "            fn=objective_func,\n",
    "            space=search_space,\n",
    "            algo=tpe.suggest,\n",
    "            max_evals=len(trials.trials) + batch_size,\n",
    "            trials=trials,\n",
    "            verbose=True\n",
    "        )\n",
    "        \n",
    "        batch_info = {\n",
    "            'model': model_name,\n",
    "            'batch': batch + 1,\n",
    "            'timestamp': datetime.now().isoformat(),\n",
    "            'best_params': batch_result,\n",
    "            'trials_count': len(trials.trials),\n",
    "            'best_loss': min([t['result']['loss'] for t in trials.trials])\n",
    "        }\n",
    "        \n",
    "        saved_results.append(batch_info)\n",
    "        \n",
    "        # Save files\n",
    "        with open(results_file, 'wb') as f:\n",
    "            pickle.dump(saved_results, f)\n",
    "        \n",
    "        with open(checkpoint_file, 'wb') as f:\n",
    "            pickle.dump(trials, f)\n",
    "        \n",
    "        print(f\"{model_name} Batch {batch+1} saved. Best RMSE: {batch_info['best_loss']:.4f}\")\n",
    "        print(\"-\" * 50)\n",
    "        \n",
    "        import time\n",
    "        time.sleep(5)"
   ]
  },
  {
   "cell_type": "code",
   "execution_count": 35,
   "id": "47e9dce1-9a87-4099-bbcb-4ecea11c2d93",
   "metadata": {},
   "outputs": [
    {
     "name": "stderr",
     "output_type": "stream",
     "text": [
      "2025/07/12 09:35:39 WARNING mlflow.models.model: `artifact_path` is deprecated. Please use `name` instead.\n",
      "2025/07/12 09:35:42 INFO mlflow.store.db.utils: Creating initial MLflow database tables...\n",
      "2025/07/12 09:35:43 INFO mlflow.store.db.utils: Updating database tables\n",
      "INFO  [alembic.runtime.migration] Context impl SQLiteImpl.\n",
      "INFO  [alembic.runtime.migration] Will assume non-transactional DDL.\n",
      "Registered model 'MyRandomForestModel' already exists. Creating a new version of this model...\n",
      "Created version '12' of model 'MyRandomForestModel'.\n"
     ]
    },
    {
     "name": "stdout",
     "output_type": "stream",
     "text": [
      "Random Forest RMSE: 11.7325\n"
     ]
    },
    {
     "name": "stderr",
     "output_type": "stream",
     "text": [
      "2025/07/12 09:35:46 WARNING mlflow.models.model: `artifact_path` is deprecated. Please use `name` instead.\n",
      "Registered model 'MyExtraTreesModel' already exists. Creating a new version of this model...\n",
      "Created version '12' of model 'MyExtraTreesModel'.\n"
     ]
    },
    {
     "name": "stdout",
     "output_type": "stream",
     "text": [
      "Extra Trees RMSE: 12.0590\n"
     ]
    },
    {
     "name": "stderr",
     "output_type": "stream",
     "text": [
      "/home/ubuntu/miniconda3/envs/exp-tracking-env/lib/python3.10/site-packages/sklearn/svm/_base.py:1250: ConvergenceWarning: Liblinear failed to converge, increase the number of iterations.\n",
      "  warnings.warn(\n",
      "2025/07/12 09:35:54 WARNING mlflow.models.model: `artifact_path` is deprecated. Please use `name` instead.\n"
     ]
    },
    {
     "name": "stdout",
     "output_type": "stream",
     "text": [
      "Linear SVR RMSE: 833.8257\n",
      "Loaded 4 previous results for RandomForest\n",
      "Resuming RandomForest from 8 trials\n",
      "Loaded 4 previous results for ExtraTrees\n",
      "Resuming ExtraTrees from 8 trials\n",
      "Loaded 4 previous results for LinearSVR\n",
      "Resuming LinearSVR from 8 trials\n"
     ]
    },
    {
     "name": "stderr",
     "output_type": "stream",
     "text": [
      "Registered model 'MyLinearSVRModel' already exists. Creating a new version of this model...\n",
      "Created version '13' of model 'MyLinearSVRModel'.\n"
     ]
    }
   ],
   "source": [
    "# Assuming you have X_train, y_train, X_val, y_val, dv ready\n",
    "\n",
    "# Train Random Forest\n",
    "rf_model, rf_rmse = train_random_forest(X_train, y_train, X_val, y_val, dv)\n",
    "\n",
    "# Train Extra Trees\n",
    "et_model, et_rmse = train_extra_trees(X_train, y_train, X_val, y_val, dv)\n",
    "\n",
    "# Train Linear SVR\n",
    "svr_model, svr_rmse = train_linear_svr(X_train, y_train, X_val, y_val, dv)\n",
    "\n",
    "\n",
    "# Contoh hyperparameter optimization\n",
    "\n",
    "# Random Forest hyperopt\n",
    "run_hyperopt_for_model(\n",
    "    model_name=\"RandomForest\",\n",
    "    objective_func=objective_rf,\n",
    "    search_space=search_space_rf,\n",
    "    results_file=\"rf_hyperopt_results.pkl\",\n",
    "    checkpoint_file=\"rf_hyperopt_checkpoint.pkl\"\n",
    ")\n",
    "\n",
    "# Extra Trees hyperopt\n",
    "run_hyperopt_for_model(\n",
    "    model_name=\"ExtraTrees\", \n",
    "    objective_func=objective_et,\n",
    "    search_space=search_space_et,\n",
    "    results_file=\"et_hyperopt_results.pkl\",\n",
    "    checkpoint_file=\"et_hyperopt_checkpoint.pkl\"\n",
    ")\n",
    "\n",
    "# Linear SVR hyperopt\n",
    "run_hyperopt_for_model(\n",
    "    model_name=\"LinearSVR\",\n",
    "    objective_func=objective_svr,\n",
    "    search_space=search_space_svr,\n",
    "    results_file=\"svr_hyperopt_results.pkl\",\n",
    "    checkpoint_file=\"svr_hyperopt_checkpoint.pkl\"\n",
    ")"
   ]
  },
  {
   "cell_type": "code",
   "execution_count": 61,
   "id": "38ce5016-a80b-43d5-a388-a269166cbde3",
   "metadata": {},
   "outputs": [],
   "source": []
  },
  {
   "cell_type": "code",
   "execution_count": null,
   "id": "8dac410a-8c7c-444b-ac43-683334baf0e0",
   "metadata": {},
   "outputs": [],
   "source": []
  },
  {
   "cell_type": "code",
   "execution_count": null,
   "id": "084a9bf0-6830-4698-a857-a9de5228cc4d",
   "metadata": {},
   "outputs": [],
   "source": []
  }
 ],
 "metadata": {
  "kernelspec": {
   "display_name": "Python 3 (ipykernel)",
   "language": "python",
   "name": "python3"
  },
  "language_info": {
   "codemirror_mode": {
    "name": "ipython",
    "version": 3
   },
   "file_extension": ".py",
   "mimetype": "text/x-python",
   "name": "python",
   "nbconvert_exporter": "python",
   "pygments_lexer": "ipython3",
   "version": "3.10.18"
  }
 },
 "nbformat": 4,
 "nbformat_minor": 5
}
